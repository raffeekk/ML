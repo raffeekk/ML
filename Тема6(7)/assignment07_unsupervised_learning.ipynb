{
  "cells": [
    {
      "cell_type": "markdown",
      "metadata": {
        "id": "B7fhHQbUR23-"
      },
      "source": [
        "# <center>Домашнее задание № 7\n",
        "## <center> Обучение без учителя: метод главных компонент и кластеризация"
      ]
    },
    {
      "cell_type": "markdown",
      "metadata": {
        "id": "CaJXN-gnR24A"
      },
      "source": [
        "В этом задании мы разберемся с тем, как работают методы снижения размерности и кластеризации данных. Заодно еще раз попрактикуемся в задаче классификации.\n",
        "\n",
        "Мы будем работать с набором данных [Samsung Human Activity Recognition](https://archive.ics.uci.edu/ml/datasets/Human+Activity+Recognition+Using+Smartphones). Скачайте данные [отсюда](https://drive.google.com/file/d/14RukQ0ylM2GCdViUHBBjZ2imCaYcjlux/view?usp=sharing). Данные поступают с акселерометров и гироскопов мобильных телефонов Samsung Galaxy S3 (подробнее про признаки – по ссылке на UCI выше), также известен вид активности человека с телефоном в кармане – ходил ли он, стоял, лежал, сидел или шел вверх/вниз по лестнице.\n",
        "\n",
        "Вначале мы представим, что вид активности нам неизвестнен, и попробуем кластеризовать людей чисто на основе имеющихся признаков. Затем решим задачу определения вида физической активности именно как задачу классификации.\n"
      ]
    },
    {
      "cell_type": "code",
      "execution_count": 12,
      "metadata": {
        "id": "BvVM0DXTR24A"
      },
      "outputs": [],
      "source": [
        "import numpy as np\n",
        "import pandas as pd\n",
        "import seaborn as sns\n",
        "from tqdm import tqdm_notebook\n",
        "\n",
        "%matplotlib inline\n",
        "from matplotlib import pyplot as plt\n",
        "plt.style.use(\"dark_background\")\n",
        "\n",
        "# print(plt.style.available)\n",
        "\n",
        "plt.style.use('seaborn-v0_8-darkgrid')\n",
        "plt.rcParams['figure.figsize'] = (12, 9)\n",
        "plt.rcParams['font.family'] = 'DejaVu Sans'\n",
        "\n",
        "from sklearn import metrics\n",
        "from sklearn.cluster import AgglomerativeClustering, KMeans, SpectralClustering\n",
        "from sklearn.decomposition import PCA\n",
        "from sklearn.model_selection import GridSearchCV\n",
        "from sklearn.preprocessing import StandardScaler\n",
        "from sklearn.svm import LinearSVC\n",
        "\n",
        "RANDOM_STATE = 17"
      ]
    },
    {
      "cell_type": "code",
      "execution_count": 13,
      "metadata": {
        "id": "PWkVpXHHR24C"
      },
      "outputs": [],
      "source": [
        "samsung_test = \"https://raw.githubusercontent.com/raffeekk/ML/refs/heads/main/%D0%A2%D0%B5%D0%BC%D0%B06(7)/samsung_test.txt\"\n",
        "samsung_test_labels = \"https://raw.githubusercontent.com/raffeekk/ML/refs/heads/main/%D0%A2%D0%B5%D0%BC%D0%B06(7)/samsung_test_labels.txt\"\n",
        "samsung_train = \"https://raw.githubusercontent.com/raffeekk/ML/refs/heads/main/%D0%A2%D0%B5%D0%BC%D0%B06(7)/samsung_train.txt\"\n",
        "samsung_train_labels = \"https://raw.githubusercontent.com/raffeekk/ML/refs/heads/main/%D0%A2%D0%B5%D0%BC%D0%B06(7)/samsung_train_labels.txt\"\n",
        "\n",
        "X_train = np.loadtxt(samsung_train)\n",
        "y_train = np.loadtxt(samsung_train_labels).astype(int)\n",
        "\n",
        "X_test = np.loadtxt(samsung_test)\n",
        "y_test = np.loadtxt(samsung_test_labels).astype(int)"
      ]
    },
    {
      "cell_type": "code",
      "execution_count": 14,
      "metadata": {
        "id": "CDRorPYCR24D"
      },
      "outputs": [],
      "source": [
        "# Проверим размерности\n",
        "assert(X_train.shape == (7352, 561) and y_train.shape == (7352,))\n",
        "assert(X_test.shape == (2947, 561) and y_test.shape == (2947,))"
      ]
    },
    {
      "cell_type": "markdown",
      "metadata": {
        "id": "dfhWNNmsR24D"
      },
      "source": [
        "Для кластеризации нам не нужен вектор ответов, поэтому будем работать с объединением обучающей и тестовой выборок. Объедините *X_train* с *X_test*, а *y_train* – с *y_test*."
      ]
    },
    {
      "cell_type": "code",
      "execution_count": 16,
      "metadata": {
        "id": "Q-FBrgH1R24E"
      },
      "outputs": [],
      "source": [
        "# Ваш код здесь\n",
        "X = np.vstack((X_train, X_test))\n",
        "y = np.hstack((y_train, y_test))"
      ]
    },
    {
      "cell_type": "markdown",
      "metadata": {
        "id": "DOcwn2QhR24E"
      },
      "source": [
        "Определим число уникальных значений меток целевого класса."
      ]
    },
    {
      "cell_type": "code",
      "execution_count": 17,
      "metadata": {
        "id": "nJurDisVR24F",
        "outputId": "9fc367ea-b4c0-48c4-9351-c5827e8d69fd",
        "colab": {
          "base_uri": "https://localhost:8080/"
        }
      },
      "outputs": [
        {
          "output_type": "execute_result",
          "data": {
            "text/plain": [
              "array([1, 2, 3, 4, 5, 6])"
            ]
          },
          "metadata": {},
          "execution_count": 17
        }
      ],
      "source": [
        "np.unique(y)"
      ]
    },
    {
      "cell_type": "code",
      "execution_count": 18,
      "metadata": {
        "id": "zp9XIWn8R24G"
      },
      "outputs": [],
      "source": [
        "n_classes = np.unique(y).size"
      ]
    },
    {
      "cell_type": "markdown",
      "metadata": {
        "id": "FEqB5yJ4R24G"
      },
      "source": [
        "[Эти метки соответствуют:](https://archive.ics.uci.edu/ml/machine-learning-databases/00240/UCI%20HAR%20Dataset.names)\n",
        "- 1 - ходьбе\n",
        "- 2 - подъему вверх по лестнице\n",
        "- 3 - спуску по лестнице\n",
        "- 4 - сидению\n",
        "- 5 - стоянию\n",
        "- 6 - лежанию\n",
        "\n",
        "*уж простите, если звучание этих существительных кажется корявым :)*"
      ]
    },
    {
      "cell_type": "markdown",
      "metadata": {
        "id": "1Zv5AD-XR24G"
      },
      "source": [
        "Отмасштабируйте выборку с помощью `StandardScaler` с параметрами по умолчанию."
      ]
    },
    {
      "cell_type": "code",
      "execution_count": 20,
      "metadata": {
        "id": "A5enkXM_R24G"
      },
      "outputs": [],
      "source": [
        "# Ваш код здесь\n",
        "scaler = StandardScaler()\n",
        "X_scaled = scaler.fit_transform(X)"
      ]
    },
    {
      "cell_type": "markdown",
      "metadata": {
        "id": "ieCrrW4GR24H"
      },
      "source": [
        "Понижаем размерность с помощью PCA, оставляя столько компонент, сколько нужно для того, чтобы объяснить как минимум 90% дисперсии исходных (отмасштабированных) данных. Используйте отмасштабированную выборку и зафиксируйте random_state (константа RANDOM_STATE)."
      ]
    },
    {
      "cell_type": "code",
      "execution_count": 21,
      "metadata": {
        "id": "w7gO-dx3R24H"
      },
      "outputs": [],
      "source": [
        "# Ваш код здесь\n",
        "pca = PCA(n_components=0.90, random_state=RANDOM_STATE)  # Сохраняем компоненты, объясняющие 90% дисперсии\n",
        "X_pca = pca.fit_transform(X_scaled)"
      ]
    },
    {
      "cell_type": "markdown",
      "metadata": {
        "id": "VEeuARECR24H"
      },
      "source": [
        "**Вопрос 1:**<br>\n",
        "Какое минимальное число главных компонент нужно выделить, чтобы объяснить 90% дисперсии исходных (отмасштабированных) данных?"
      ]
    },
    {
      "cell_type": "code",
      "execution_count": 51,
      "metadata": {
        "id": "PmMeNqKuR24H",
        "outputId": "21d13afa-2a6d-43a1-d069-a4314bd5dda7",
        "colab": {
          "base_uri": "https://localhost:8080/"
        }
      },
      "outputs": [
        {
          "output_type": "stream",
          "name": "stdout",
          "text": [
            "Варианты ответа: 56, 65, 66, 193. Наш результат: 65\n"
          ]
        }
      ],
      "source": [
        "# Ваш код здесь\n",
        "n_components = pca.n_components_\n",
        "print(f\"Варианты ответа: 56, 65, 66, 193. Наш результат: {n_components}\")"
      ]
    },
    {
      "cell_type": "markdown",
      "metadata": {
        "id": "tirnVvcER24I"
      },
      "source": [
        "**Варианты:**\n",
        "- 56\n",
        "- 65 - верный\n",
        "- 66\n",
        "- 193"
      ]
    },
    {
      "cell_type": "markdown",
      "metadata": {
        "id": "BUNOBMaNR24I"
      },
      "source": [
        "**Вопрос 2:**<br>\n",
        "Сколько процентов дисперсии приходится на первую главную компоненту? Округлите до целых процентов.\n",
        "\n",
        "**Варианты:**\n",
        "- 45\n",
        "- 51 - верный\n",
        "- 56\n",
        "- 61"
      ]
    },
    {
      "cell_type": "code",
      "execution_count": 46,
      "metadata": {
        "id": "gX3AKpEzR24I",
        "outputId": "34bb765f-2881-43b6-fc6c-7e9d58d025fb",
        "colab": {
          "base_uri": "https://localhost:8080/"
        }
      },
      "outputs": [
        {
          "output_type": "stream",
          "name": "stdout",
          "text": [
            "Процент дисперсии для первой главной компоненты: 51%\n"
          ]
        }
      ],
      "source": [
        "# Процент дисперсии для первой главной компоненты\n",
        "variance_first_component = pca.explained_variance_ratio_[0] * 100\n",
        "print(f\"Процент дисперсии для первой главной компоненты: {variance_first_component:.0f}%\")\n"
      ]
    },
    {
      "cell_type": "markdown",
      "metadata": {
        "id": "NDzj0ffFR24I"
      },
      "source": [
        "Визуализируйте данные в проекции на первые две главные компоненты."
      ]
    },
    {
      "cell_type": "code",
      "execution_count": 27,
      "metadata": {
        "id": "0V9GONsoR24I",
        "outputId": "6a369196-357a-4464-c8dd-b5988ec01267",
        "colab": {
          "base_uri": "https://localhost:8080/",
          "height": 662
        }
      },
      "outputs": [
        {
          "output_type": "display_data",
          "data": {
            "text/plain": [
              "<Figure size 960x720 with 2 Axes>"
            ],
            "image/png": "[encoded data removed]"
          },
          "metadata": {}
        }
      ],
      "source": [
        "# Визуализация в проекции на первые две главные компоненты\n",
        "plt.scatter(X_pca[:, 0], X_pca[:, 1], c=y, s=20, cmap='viridis', alpha=0.7)\n",
        "plt.colorbar(label='Activity Labels')\n",
        "plt.xlabel('First Principal Component')\n",
        "plt.ylabel('Second Principal Component')\n",
        "plt.title('Projection onto First Two Principal Components')\n",
        "plt.show()"
      ]
    },
    {
      "cell_type": "markdown",
      "source": [],
      "metadata": {
        "id": "zGFP8KMNYZma"
      }
    },
    {
      "cell_type": "markdown",
      "metadata": {
        "id": "OIeGp6VmR24I"
      },
      "source": [
        "**Вопрос 3:**<br>\n",
        "Если все получилось правильно, Вы увидите сколько-то кластеров, почти идеально отделенных друг от друга. Какие виды активности входят в эти кластеры?<br>\n",
        "\n",
        "**Ответ:**\n",
        "- 1 кластер: все 6 активностей\n",
        "- 2 кластера: (ходьба, подъем вверх по лестнице, спуск по лестнице) и (сидение, стояние, лежание)\n",
        "- 3 кластера: (ходьба), (подъем вверх по лестнице, спуск по лестнице) и (сидение, стояние, лежание) - верный\n",
        "- 6 кластеров"
      ]
    },
    {
      "cell_type": "markdown",
      "metadata": {
        "id": "vKBj0BuoR24J"
      },
      "source": [
        "------------------------------"
      ]
    },
    {
      "cell_type": "markdown",
      "metadata": {
        "id": "rcXiypgWR24J"
      },
      "source": [
        "Сделайте кластеризацию данных методом `KMeans`, обучив модель на данных со сниженной за счет PCA размерностью. В данном случае мы подскажем, что нужно искать именно 6 кластеров, но в общем случае мы не будем знать, сколько кластеров надо искать.\n",
        "\n",
        "Параметры:\n",
        "\n",
        "- **n_clusters** = n_classes (число уникальных меток целевого класса)\n",
        "- **n_init** = 100\n",
        "- **random_state** = RANDOM_STATE (для воспроизводимости результата)\n",
        "\n",
        "Остальные параметры со значениями по умолчанию."
      ]
    },
    {
      "cell_type": "code",
      "execution_count": 47,
      "metadata": {
        "id": "VC5MP44GR24J",
        "outputId": "440fd4a7-5e51-40db-b25b-56a361e635cf",
        "colab": {
          "base_uri": "https://localhost:8080/",
          "height": 662
        }
      },
      "outputs": [
        {
          "output_type": "display_data",
          "data": {
            "text/plain": [
              "<Figure size 960x720 with 2 Axes>"
            ],
            "image/png": "[encoded data removed]"
          },
          "metadata": {}
        }
      ],
      "source": [
        "from sklearn.cluster import KMeans\n",
        "\n",
        "# Число уникальных меток целевого класса\n",
        "n_classes = len(np.unique(y))\n",
        "\n",
        "# Настройка KMeans\n",
        "kmeans = KMeans(n_clusters=n_classes, n_init=100, random_state=RANDOM_STATE)\n",
        "cluster_labels = kmeans.fit_predict(X_pca)\n",
        "\n",
        "# Визуализация результатов кластеризации\n",
        "plt.scatter(X_pca[:, 0], X_pca[:, 1], c=cluster_labels, s=20, cmap='viridis', alpha=0.7)\n",
        "plt.colorbar(label='Cluster Labels')\n",
        "plt.xlabel('First Principal Component')\n",
        "plt.ylabel('Second Principal Component')\n",
        "plt.title('KMeans Clustering (Projection onto First Two Principal Components)')\n",
        "plt.show()\n"
      ]
    },
    {
      "cell_type": "markdown",
      "metadata": {
        "id": "a-ccn6_-R24J"
      },
      "source": [
        "Визуализируйте данные в проекции на первые две главные компоненты. Раскрасьте точки в соответствии с полученными метками кластеров."
      ]
    },
    {
      "cell_type": "code",
      "execution_count": 30,
      "metadata": {
        "id": "1BC3t59GR24J",
        "outputId": "b2393731-ee6d-4469-e98d-72a47903ffe9",
        "colab": {
          "base_uri": "https://localhost:8080/"
        }
      },
      "outputs": [
        {
          "output_type": "stream",
          "name": "stdout",
          "text": [
            "                          cluster1  cluster2  cluster3  cluster4  cluster5  \\\n",
            "ходьба                           0       903       741        78         0   \n",
            "подъем вверх по лестнице         0      1241       296         5         2   \n",
            "спуск по лестнице                0       320       890       196         0   \n",
            "сидение                       1235         1         0         0       450   \n",
            "стояние                       1344         0         0         0       562   \n",
            "лежание                         52         5         0         0       329   \n",
            "все                           2631      2470      1927       279      1343   \n",
            "\n",
            "                          cluster6    все  \n",
            "ходьба                           0   1722  \n",
            "подъем вверх по лестнице         0   1544  \n",
            "спуск по лестнице                0   1406  \n",
            "сидение                         91   1777  \n",
            "стояние                          0   1906  \n",
            "лежание                       1558   1944  \n",
            "все                           1649  10299  \n"
          ]
        }
      ],
      "source": [
        "# Таблица соответствия\n",
        "tab = pd.crosstab(y, cluster_labels, margins=True)\n",
        "tab.index = ['ходьба', 'подъем вверх по лестнице',\n",
        "             'спуск по лестнице', 'сидение', 'стояние', 'лежание', 'все']\n",
        "tab.columns = ['cluster' + str(i + 1) for i in range(n_classes)] + ['все']\n",
        "print(tab)\n"
      ]
    },
    {
      "cell_type": "markdown",
      "metadata": {
        "id": "PMYG3sNwR24K"
      },
      "source": [
        "Посмотрите на соответствие между метками кластеров и исходными метками классов и на то, какие виды активностей алгоритм `KMeans` путает."
      ]
    },
    {
      "cell_type": "code",
      "execution_count": 31,
      "metadata": {
        "id": "LNScEMhrR24K",
        "outputId": "cc4408b8-3f19-4ff1-c795-04beab96e002",
        "colab": {
          "base_uri": "https://localhost:8080/",
          "height": 269
        }
      },
      "outputs": [
        {
          "output_type": "execute_result",
          "data": {
            "text/plain": [
              "                          cluster1  cluster2  cluster3  cluster4  cluster5  \\\n",
              "ходьба                           0       903       741        78         0   \n",
              "подъем вверх по лестнице         0      1241       296         5         2   \n",
              "спуск по лестнице                0       320       890       196         0   \n",
              "сидение                       1235         1         0         0       450   \n",
              "стояние                       1344         0         0         0       562   \n",
              "лежание                         52         5         0         0       329   \n",
              "все                           2631      2470      1927       279      1343   \n",
              "\n",
              "                          cluster6    все  \n",
              "ходьба                           0   1722  \n",
              "подъем вверх по лестнице         0   1544  \n",
              "спуск по лестнице                0   1406  \n",
              "сидение                         91   1777  \n",
              "стояние                          0   1906  \n",
              "лежание                       1558   1944  \n",
              "все                           1649  10299  "
            ],
            "text/html": [
              "\n",
              "  <div id=\"df-5a401063-f9d0-4f80-b8d0-96289c0da90a\" class=\"colab-df-container\">\n",
              "    <div>\n",
              "<style scoped>\n",
              "    .dataframe tbody tr th:only-of-type {\n",
              "        vertical-align: middle;\n",
              "    }\n",
              "\n",
              "    .dataframe tbody tr th {\n",
              "        vertical-align: top;\n",
              "    }\n",
              "\n",
              "    .dataframe thead th {\n",
              "        text-align: right;\n",
              "    }\n",
              "</style>\n",
              "<table border=\"1\" class=\"dataframe\">\n",
              "  <thead>\n",
              "    <tr style=\"text-align: right;\">\n",
              "      <th></th>\n",
              "      <th>cluster1</th>\n",
              "      <th>cluster2</th>\n",
              "      <th>cluster3</th>\n",
              "      <th>cluster4</th>\n",
              "      <th>cluster5</th>\n",
              "      <th>cluster6</th>\n",
              "      <th>все</th>\n",
              "    </tr>\n",
              "  </thead>\n",
              "  <tbody>\n",
              "    <tr>\n",
              "      <th>ходьба</th>\n",
              "      <td>0</td>\n",
              "      <td>903</td>\n",
              "      <td>741</td>\n",
              "      <td>78</td>\n",
              "      <td>0</td>\n",
              "      <td>0</td>\n",
              "      <td>1722</td>\n",
              "    </tr>\n",
              "    <tr>\n",
              "      <th>подъем вверх по лестнице</th>\n",
              "      <td>0</td>\n",
              "      <td>1241</td>\n",
              "      <td>296</td>\n",
              "      <td>5</td>\n",
              "      <td>2</td>\n",
              "      <td>0</td>\n",
              "      <td>1544</td>\n",
              "    </tr>\n",
              "    <tr>\n",
              "      <th>спуск по лестнице</th>\n",
              "      <td>0</td>\n",
              "      <td>320</td>\n",
              "      <td>890</td>\n",
              "      <td>196</td>\n",
              "      <td>0</td>\n",
              "      <td>0</td>\n",
              "      <td>1406</td>\n",
              "    </tr>\n",
              "    <tr>\n",
              "      <th>сидение</th>\n",
              "      <td>1235</td>\n",
              "      <td>1</td>\n",
              "      <td>0</td>\n",
              "      <td>0</td>\n",
              "      <td>450</td>\n",
              "      <td>91</td>\n",
              "      <td>1777</td>\n",
              "    </tr>\n",
              "    <tr>\n",
              "      <th>стояние</th>\n",
              "      <td>1344</td>\n",
              "      <td>0</td>\n",
              "      <td>0</td>\n",
              "      <td>0</td>\n",
              "      <td>562</td>\n",
              "      <td>0</td>\n",
              "      <td>1906</td>\n",
              "    </tr>\n",
              "    <tr>\n",
              "      <th>лежание</th>\n",
              "      <td>52</td>\n",
              "      <td>5</td>\n",
              "      <td>0</td>\n",
              "      <td>0</td>\n",
              "      <td>329</td>\n",
              "      <td>1558</td>\n",
              "      <td>1944</td>\n",
              "    </tr>\n",
              "    <tr>\n",
              "      <th>все</th>\n",
              "      <td>2631</td>\n",
              "      <td>2470</td>\n",
              "      <td>1927</td>\n",
              "      <td>279</td>\n",
              "      <td>1343</td>\n",
              "      <td>1649</td>\n",
              "      <td>10299</td>\n",
              "    </tr>\n",
              "  </tbody>\n",
              "</table>\n",
              "</div>\n",
              "    <div class=\"colab-df-buttons\">\n",
              "\n",
              "  <div class=\"colab-df-container\">\n",
              "    <button class=\"colab-df-convert\" onclick=\"convertToInteractive('df-5a401063-f9d0-4f80-b8d0-96289c0da90a')\"\n",
              "            title=\"Convert this dataframe to an interactive table.\"\n",
              "            style=\"display:none;\">\n",
              "\n",
              "  <svg xmlns=\"http://www.w3.org/2000/svg\" height=\"24px\" viewBox=\"0 -960 960 960\">\n",
              "    <path d=\"M120-120v-720h720v720H120Zm60-500h600v-160H180v160Zm220 220h160v-160H400v160Zm0 220h160v-160H400v160ZM180-400h160v-160H180v160Zm440 0h160v-160H620v160ZM180-180h160v-160H180v160Zm440 0h160v-160H620v160Z\"/>\n",
              "  </svg>\n",
              "    </button>\n",
              "\n",
              "  <style>\n",
              "    .colab-df-container {\n",
              "      display:flex;\n",
              "      gap: 12px;\n",
              "    }\n",
              "\n",
              "    .colab-df-convert {\n",
              "      background-color: #E8F0FE;\n",
              "      border: none;\n",
              "      border-radius: 50%;\n",
              "      cursor: pointer;\n",
              "      display: none;\n",
              "      fill: #1967D2;\n",
              "      height: 32px;\n",
              "      padding: 0 0 0 0;\n",
              "      width: 32px;\n",
              "    }\n",
              "\n",
              "    .colab-df-convert:hover {\n",
              "      background-color: #E2EBFA;\n",
              "      box-shadow: 0px 1px 2px rgba(60, 64, 67, 0.3), 0px 1px 3px 1px rgba(60, 64, 67, 0.15);\n",
              "      fill: #174EA6;\n",
              "    }\n",
              "\n",
              "    .colab-df-buttons div {\n",
              "      margin-bottom: 4px;\n",
              "    }\n",
              "\n",
              "    [theme=dark] .colab-df-convert {\n",
              "      background-color: #3B4455;\n",
              "      fill: #D2E3FC;\n",
              "    }\n",
              "\n",
              "    [theme=dark] .colab-df-convert:hover {\n",
              "      background-color: #434B5C;\n",
              "      box-shadow: 0px 1px 3px 1px rgba(0, 0, 0, 0.15);\n",
              "      filter: drop-shadow(0px 1px 2px rgba(0, 0, 0, 0.3));\n",
              "      fill: #FFFFFF;\n",
              "    }\n",
              "  </style>\n",
              "\n",
              "    <script>\n",
              "      const buttonEl =\n",
              "        document.querySelector('#df-5a401063-f9d0-4f80-b8d0-96289c0da90a button.colab-df-convert');\n",
              "      buttonEl.style.display =\n",
              "        google.colab.kernel.accessAllowed ? 'block' : 'none';\n",
              "\n",
              "      async function convertToInteractive(key) {\n",
              "        const element = document.querySelector('#df-5a401063-f9d0-4f80-b8d0-96289c0da90a');\n",
              "        const dataTable =\n",
              "          await google.colab.kernel.invokeFunction('convertToInteractive',\n",
              "                                                    [key], {});\n",
              "        if (!dataTable) return;\n",
              "\n",
              "        const docLinkHtml = 'Like what you see? Visit the ' +\n",
              "          '<a target=\"_blank\" href=https://colab.research.google.com/notebooks/data_table.ipynb>data table notebook</a>'\n",
              "          + ' to learn more about interactive tables.';\n",
              "        element.innerHTML = '';\n",
              "        dataTable['output_type'] = 'display_data';\n",
              "        await google.colab.output.renderOutput(dataTable, element);\n",
              "        const docLink = document.createElement('div');\n",
              "        docLink.innerHTML = docLinkHtml;\n",
              "        element.appendChild(docLink);\n",
              "      }\n",
              "    </script>\n",
              "  </div>\n",
              "\n",
              "\n",
              "<div id=\"df-832246fb-cff9-4636-9f38-ee1ecdb84d96\">\n",
              "  <button class=\"colab-df-quickchart\" onclick=\"quickchart('df-832246fb-cff9-4636-9f38-ee1ecdb84d96')\"\n",
              "            title=\"Suggest charts\"\n",
              "            style=\"display:none;\">\n",
              "\n",
              "<svg xmlns=\"http://www.w3.org/2000/svg\" height=\"24px\"viewBox=\"0 0 24 24\"\n",
              "     width=\"24px\">\n",
              "    <g>\n",
              "        <path d=\"M19 3H5c-1.1 0-2 .9-2 2v14c0 1.1.9 2 2 2h14c1.1 0 2-.9 2-2V5c0-1.1-.9-2-2-2zM9 17H7v-7h2v7zm4 0h-2V7h2v10zm4 0h-2v-4h2v4z\"/>\n",
              "    </g>\n",
              "</svg>\n",
              "  </button>\n",
              "\n",
              "<style>\n",
              "  .colab-df-quickchart {\n",
              "      --bg-color: #E8F0FE;\n",
              "      --fill-color: #1967D2;\n",
              "      --hover-bg-color: #E2EBFA;\n",
              "      --hover-fill-color: #174EA6;\n",
              "      --disabled-fill-color: #AAA;\n",
              "      --disabled-bg-color: #DDD;\n",
              "  }\n",
              "\n",
              "  [theme=dark] .colab-df-quickchart {\n",
              "      --bg-color: #3B4455;\n",
              "      --fill-color: #D2E3FC;\n",
              "      --hover-bg-color: #434B5C;\n",
              "      --hover-fill-color: #FFFFFF;\n",
              "      --disabled-bg-color: #3B4455;\n",
              "      --disabled-fill-color: #666;\n",
              "  }\n",
              "\n",
              "  .colab-df-quickchart {\n",
              "    background-color: var(--bg-color);\n",
              "    border: none;\n",
              "    border-radius: 50%;\n",
              "    cursor: pointer;\n",
              "    display: none;\n",
              "    fill: var(--fill-color);\n",
              "    height: 32px;\n",
              "    padding: 0;\n",
              "    width: 32px;\n",
              "  }\n",
              "\n",
              "  .colab-df-quickchart:hover {\n",
              "    background-color: var(--hover-bg-color);\n",
              "    box-shadow: 0 1px 2px rgba(60, 64, 67, 0.3), 0 1px 3px 1px rgba(60, 64, 67, 0.15);\n",
              "    fill: var(--button-hover-fill-color);\n",
              "  }\n",
              "\n",
              "  .colab-df-quickchart-complete:disabled,\n",
              "  .colab-df-quickchart-complete:disabled:hover {\n",
              "    background-color: var(--disabled-bg-color);\n",
              "    fill: var(--disabled-fill-color);\n",
              "    box-shadow: none;\n",
              "  }\n",
              "\n",
              "  .colab-df-spinner {\n",
              "    border: 2px solid var(--fill-color);\n",
              "    border-color: transparent;\n",
              "    border-bottom-color: var(--fill-color);\n",
              "    animation:\n",
              "      spin 1s steps(1) infinite;\n",
              "  }\n",
              "\n",
              "  @keyframes spin {\n",
              "    0% {\n",
              "      border-color: transparent;\n",
              "      border-bottom-color: var(--fill-color);\n",
              "      border-left-color: var(--fill-color);\n",
              "    }\n",
              "    20% {\n",
              "      border-color: transparent;\n",
              "      border-left-color: var(--fill-color);\n",
              "      border-top-color: var(--fill-color);\n",
              "    }\n",
              "    30% {\n",
              "      border-color: transparent;\n",
              "      border-left-color: var(--fill-color);\n",
              "      border-top-color: var(--fill-color);\n",
              "      border-right-color: var(--fill-color);\n",
              "    }\n",
              "    40% {\n",
              "      border-color: transparent;\n",
              "      border-right-color: var(--fill-color);\n",
              "      border-top-color: var(--fill-color);\n",
              "    }\n",
              "    60% {\n",
              "      border-color: transparent;\n",
              "      border-right-color: var(--fill-color);\n",
              "    }\n",
              "    80% {\n",
              "      border-color: transparent;\n",
              "      border-right-color: var(--fill-color);\n",
              "      border-bottom-color: var(--fill-color);\n",
              "    }\n",
              "    90% {\n",
              "      border-color: transparent;\n",
              "      border-bottom-color: var(--fill-color);\n",
              "    }\n",
              "  }\n",
              "</style>\n",
              "\n",
              "  <script>\n",
              "    async function quickchart(key) {\n",
              "      const quickchartButtonEl =\n",
              "        document.querySelector('#' + key + ' button');\n",
              "      quickchartButtonEl.disabled = true;  // To prevent multiple clicks.\n",
              "      quickchartButtonEl.classList.add('colab-df-spinner');\n",
              "      try {\n",
              "        const charts = await google.colab.kernel.invokeFunction(\n",
              "            'suggestCharts', [key], {});\n",
              "      } catch (error) {\n",
              "        console.error('Error during call to suggestCharts:', error);\n",
              "      }\n",
              "      quickchartButtonEl.classList.remove('colab-df-spinner');\n",
              "      quickchartButtonEl.classList.add('colab-df-quickchart-complete');\n",
              "    }\n",
              "    (() => {\n",
              "      let quickchartButtonEl =\n",
              "        document.querySelector('#df-832246fb-cff9-4636-9f38-ee1ecdb84d96 button');\n",
              "      quickchartButtonEl.style.display =\n",
              "        google.colab.kernel.accessAllowed ? 'block' : 'none';\n",
              "    })();\n",
              "  </script>\n",
              "</div>\n",
              "    </div>\n",
              "  </div>\n"
            ],
            "application/vnd.google.colaboratory.intrinsic+json": {
              "type": "dataframe",
              "variable_name": "tab",
              "summary": "{\n  \"name\": \"tab\",\n  \"rows\": 7,\n  \"fields\": [\n    {\n      \"column\": \"cluster1\",\n      \"properties\": {\n        \"dtype\": \"number\",\n        \"std\": 1024,\n        \"min\": 0,\n        \"max\": 2631,\n        \"num_unique_values\": 5,\n        \"samples\": [\n          1235,\n          2631,\n          1344\n        ],\n        \"semantic_type\": \"\",\n        \"description\": \"\"\n      }\n    },\n    {\n      \"column\": \"cluster2\",\n      \"properties\": {\n        \"dtype\": \"number\",\n        \"std\": 919,\n        \"min\": 0,\n        \"max\": 2470,\n        \"num_unique_values\": 7,\n        \"samples\": [\n          903,\n          1241,\n          5\n        ],\n        \"semantic_type\": \"\",\n        \"description\": \"\"\n      }\n    },\n    {\n      \"column\": \"cluster3\",\n      \"properties\": {\n        \"dtype\": \"number\",\n        \"std\": 709,\n        \"min\": 0,\n        \"max\": 1927,\n        \"num_unique_values\": 5,\n        \"samples\": [\n          296,\n          1927,\n          890\n        ],\n        \"semantic_type\": \"\",\n        \"description\": \"\"\n      }\n    },\n    {\n      \"column\": \"cluster4\",\n      \"properties\": {\n        \"dtype\": \"number\",\n        \"std\": 113,\n        \"min\": 0,\n        \"max\": 279,\n        \"num_unique_values\": 5,\n        \"samples\": [\n          5,\n          279,\n          196\n        ],\n        \"semantic_type\": \"\",\n        \"description\": \"\"\n      }\n    },\n    {\n      \"column\": \"cluster5\",\n      \"properties\": {\n        \"dtype\": \"number\",\n        \"std\": 482,\n        \"min\": 0,\n        \"max\": 1343,\n        \"num_unique_values\": 6,\n        \"samples\": [\n          0,\n          2,\n          1343\n        ],\n        \"semantic_type\": \"\",\n        \"description\": \"\"\n      }\n    },\n    {\n      \"column\": \"cluster6\",\n      \"properties\": {\n        \"dtype\": \"number\",\n        \"std\": 774,\n        \"min\": 0,\n        \"max\": 1649,\n        \"num_unique_values\": 4,\n        \"samples\": [\n          91,\n          1649,\n          0\n        ],\n        \"semantic_type\": \"\",\n        \"description\": \"\"\n      }\n    },\n    {\n      \"column\": \"\\u0432\\u0441\\u0435\",\n      \"properties\": {\n        \"dtype\": \"number\",\n        \"std\": 3249,\n        \"min\": 1406,\n        \"max\": 10299,\n        \"num_unique_values\": 7,\n        \"samples\": [\n          1722,\n          1544,\n          1944\n        ],\n        \"semantic_type\": \"\",\n        \"description\": \"\"\n      }\n    }\n  ]\n}"
            }
          },
          "metadata": {},
          "execution_count": 31
        }
      ],
      "source": [
        "tab = pd.crosstab(y, cluster_labels, margins=True)\n",
        "tab.index = ['ходьба', 'подъем вверх по лестнице',\n",
        "             'спуск по лестнице', 'сидение', 'стояние', 'лежание', 'все']\n",
        "tab.columns = ['cluster' + str(i + 1) for i in range(6)] + ['все']\n",
        "tab"
      ]
    },
    {
      "cell_type": "markdown",
      "metadata": {
        "id": "yOmDrjHIR24K"
      },
      "source": [
        "Видим, что каждому классу (т.е. каждой активности) соответствуют несколько кластеров. Давайте посмотрим на максимальную долю объектов в классе, отнесенных к какому-то одному кластеру. Это будет простой метрикой, характеризующей, насколько легко класс отделяется от других при кластеризации.\n",
        "\n",
        "Пример: если для класса \"спуск по лестнице\", в котором 1406 объектов,  распределение кластеров такое:\n",
        " - кластер 1 – 900\n",
        " - кластер 3 – 500\n",
        " - кластер 6 – 6,\n",
        "\n",
        "то такая доля будет 900 / 1406 $\\approx$ 0.64.\n",
        "\n",
        "\n",
        "**Вопрос 4:**<br>\n",
        "Какой вид активности отделился от остальных лучше всего в терминах простой  метрики, описанной выше?<br>\n",
        "\n",
        "**Ответ:**\n",
        "- ходьба\n",
        "- стояние - верный\n",
        "- спуск по лестнице\n",
        "- перечисленные варианты не подходят"
      ]
    },
    {
      "cell_type": "markdown",
      "metadata": {
        "id": "xmxWZRs2R24K"
      },
      "source": [
        "Видно, что kMeans не очень хорошо отличает только активности друг от друга. Используйте метод локтя, чтобы выбрать оптимальное количество кластеров. Параметры алгоритма и данные используем те же, что раньше, меняем только `n_clusters`."
      ]
    },
    {
      "cell_type": "code",
      "execution_count": 32,
      "metadata": {
        "id": "4EZy4vuUR24K",
        "outputId": "b58c9be7-f695-4de6-bfa9-114add7ee483",
        "colab": {
          "base_uri": "https://localhost:8080/",
          "height": 681,
          "referenced_widgets": [
            "2b18ef51974a48208d7087fa07623cfc",
            "6335c4a8c6f94d42adfbaf591059ca7b",
            "25287465599f4c819976f0a32cabd52e",
            "94c0d560cc324c80af9b479e1bcfa35e",
            "d6d21c8f50934b81bd6b4a8697f9824c",
            "3dfc0b984a404db0b549e2d4136c34a0",
            "e8833511ae4d497db1d56c438971a2ca",
            "393688da848040048e8cbe10f012f74b",
            "2d6a4ced36004435ad5f1aba6034d8ca",
            "b8ba1e87519145eda2ef2483b00a277f",
            "3f78acf910b64ec7b4bd854f0e4ca17e"
          ]
        }
      },
      "outputs": [
        {
          "output_type": "display_data",
          "data": {
            "text/plain": [
              "  0%|          | 0/6 [00:00<?, ?it/s]"
            ],
            "application/vnd.jupyter.widget-view+json": {
              "version_major": 2,
              "version_minor": 0,
              "model_id": "2b18ef51974a48208d7087fa07623cfc"
            }
          },
          "metadata": {}
        },
        {
          "output_type": "display_data",
          "data": {
            "text/plain": [
              "<Figure size 960x720 with 1 Axes>"
            ],
            "image/png": "[encoded data removed]"
          },
          "metadata": {}
        }
      ],
      "source": [
        "from tqdm.notebook import tqdm  # Импорт tqdm_notebook\n",
        "\n",
        "# Подсчет значения inertia для различных n_clusters\n",
        "inertia = []\n",
        "for k in tqdm(range(1, n_classes + 1)):  # Перебираем от 1 до n_classes кластеров\n",
        "    kmeans = KMeans(n_clusters=k, n_init=100, random_state=RANDOM_STATE)\n",
        "    kmeans.fit(X_pca)\n",
        "    inertia.append(kmeans.inertia_)\n",
        "\n",
        "# Визуализация метода локтя\n",
        "plt.plot(range(1, n_classes + 1), inertia, marker='o')\n",
        "plt.xlabel('Number of Clusters (k)')\n",
        "plt.ylabel('Inertia')\n",
        "plt.title('Elbow Method for Optimal k')\n",
        "plt.grid()\n",
        "plt.show()\n"
      ]
    },
    {
      "cell_type": "markdown",
      "metadata": {
        "id": "adv8HVS3R24K"
      },
      "source": [
        "**Вопрос 5:**<br>\n",
        "Какое количество кластеров оптимально выбрать, согласно методу локтя?<br>\n",
        "\n",
        "**Ответ:**\n",
        "- 1\n",
        "- 2\n",
        "- 3 - верный\n",
        "- 4"
      ]
    },
    {
      "cell_type": "markdown",
      "metadata": {
        "id": "ffKl-sawR24L"
      },
      "source": [
        "------------------------"
      ]
    },
    {
      "cell_type": "markdown",
      "metadata": {
        "id": "6WsgyI-VR24L"
      },
      "source": [
        "Попробуем еще один метод кластеризации, который описывался в статье – агломеративную кластеризацию."
      ]
    },
    {
      "cell_type": "code",
      "execution_count": 48,
      "metadata": {
        "id": "ll9vv9iOR24L"
      },
      "outputs": [],
      "source": [
        "ag = AgglomerativeClustering(n_clusters=n_classes,\n",
        "                             linkage='ward').fit(X_pca)"
      ]
    },
    {
      "cell_type": "markdown",
      "metadata": {
        "id": "2veyLKBQR24L"
      },
      "source": [
        "Посчитайте Adjusted Rand Index (`sklearn.metrics`) для получившегося разбиения на кластеры и для `KMeans` с параметрами из задания к 4 вопросу."
      ]
    },
    {
      "cell_type": "code",
      "execution_count": 35,
      "metadata": {
        "id": "vr2pv23aR24L",
        "outputId": "aa3f636a-719d-4416-8a49-098e8dc85b3d",
        "colab": {
          "base_uri": "https://localhost:8080/"
        }
      },
      "outputs": [
        {
          "output_type": "stream",
          "name": "stdout",
          "text": [
            "Adjusted Rand Index для KMeans: 0.4198\n",
            "Adjusted Rand Index для агломеративной кластеризации: 0.4936\n"
          ]
        }
      ],
      "source": [
        "from sklearn.metrics import adjusted_rand_score\n",
        "\n",
        "# Агломеративная кластеризация\n",
        "ag = AgglomerativeClustering(n_clusters=n_classes, linkage='ward')\n",
        "ag_labels = ag.fit_predict(X_pca)\n",
        "\n",
        "# Adjusted Rand Index для KMeans\n",
        "kmeans_ari = adjusted_rand_score(y, cluster_labels)\n",
        "\n",
        "# Adjusted Rand Index для агломеративной кластеризации\n",
        "ag_ari = adjusted_rand_score(y, ag_labels)\n",
        "\n",
        "print(f\"Adjusted Rand Index для KMeans: {kmeans_ari:.4f}\")\n",
        "print(f\"Adjusted Rand Index для агломеративной кластеризации: {ag_ari:.4f}\")\n"
      ]
    },
    {
      "cell_type": "markdown",
      "metadata": {
        "id": "VtQCSSnuR24L"
      },
      "source": [
        "**Вопрос 6:**<br>\n",
        "Отметьте все верные утверждения.<br>\n",
        "\n",
        "**Варианты:**\n",
        "- Согласно ARI, KMeans справился с кластеризацией хуже, чем Agglomerative Clustering - верный\n",
        "- Для ARI не имеет значения какие именно метки присвоены кластерам, имеет значение только разбиение объектов на кластеры\n",
        "- В случае случайного разбиения на кластеры ARI будет близок к нулю - верный"
      ]
    },
    {
      "cell_type": "markdown",
      "metadata": {
        "id": "sOUoBH3pR24M"
      },
      "source": [
        "-------------------------------"
      ]
    },
    {
      "cell_type": "markdown",
      "metadata": {
        "id": "IEX-OmspR24M"
      },
      "source": [
        "Можно заметить, что задача не очень хорошо решается именно как задача кластеризации, если выделять несколько кластеров (> 2). Давайте теперь решим задачу классификации, вспомнив, что данные у нас размечены.  \n",
        "\n",
        "Для классификации используйте метод опорных векторов – класс `sklearn.svm.LinearSVC`. Мы в курсе отдельно не рассматривали этот алгоритм, но он очень известен, почитать про него можно, например, в материалах Евгения Соколова –  [тут](https://github.com/esokolov/ml-course-msu/blob/master/ML16/lecture-notes/Sem11_linear.pdf).\n",
        "\n",
        "Настройте для `LinearSVC` гиперпараметр `C` с помощью `GridSearchCV`.\n",
        "\n",
        "- Обучите новый `StandardScaler` на обучающей выборке (со всеми исходными признаками), прмиените масштабирование к тестовой выборке\n",
        "- В `GridSearchCV` укажите  cv=3."
      ]
    },
    {
      "cell_type": "code",
      "execution_count": 37,
      "metadata": {
        "id": "YWJ6sVLJR24M"
      },
      "outputs": [],
      "source": [
        "# Ваш код здесь\n",
        "scaler = StandardScaler()\n",
        "X_train_scaled = scaler.fit_transform(X_train)\n",
        "X_test_scaled = scaler.transform(X_test)"
      ]
    },
    {
      "cell_type": "code",
      "execution_count": 38,
      "metadata": {
        "id": "bko_MDdOR24M"
      },
      "outputs": [],
      "source": [
        "svc = LinearSVC(random_state=RANDOM_STATE)\n",
        "svc_params = {'C': [0.001, 0.01, 0.1, 1, 10]}"
      ]
    },
    {
      "cell_type": "code",
      "execution_count": 40,
      "metadata": {
        "id": "AJlDdk__R24N",
        "outputId": "46fac126-b8e7-4d8e-9942-b99fbe328116",
        "colab": {
          "base_uri": "https://localhost:8080/"
        }
      },
      "outputs": [
        {
          "output_type": "stream",
          "name": "stdout",
          "text": [
            "Fitting 3 folds for each of 5 candidates, totalling 15 fits\n"
          ]
        },
        {
          "output_type": "stream",
          "name": "stderr",
          "text": [
            "/usr/local/lib/python3.10/dist-packages/sklearn/svm/_base.py:1235: ConvergenceWarning: Liblinear failed to converge, increase the number of iterations.\n",
            "  warnings.warn(\n",
            "/usr/local/lib/python3.10/dist-packages/sklearn/svm/_base.py:1235: ConvergenceWarning: Liblinear failed to converge, increase the number of iterations.\n",
            "  warnings.warn(\n",
            "/usr/local/lib/python3.10/dist-packages/sklearn/svm/_base.py:1235: ConvergenceWarning: Liblinear failed to converge, increase the number of iterations.\n",
            "  warnings.warn(\n"
          ]
        }
      ],
      "source": [
        "# Ваш код здесь\n",
        "grid_svc = GridSearchCV(svc, svc_params, cv=3, scoring='accuracy', verbose=1)\n",
        "grid_svc.fit(X_train_scaled, y_train)\n",
        "\n",
        "best_svc = grid_svc.best_estimator_"
      ]
    },
    {
      "cell_type": "code",
      "execution_count": 43,
      "metadata": {
        "id": "tyA0rAPJR24N",
        "outputId": "d1cf0f15-b365-42fc-bb3b-3da9a5cf8107",
        "colab": {
          "base_uri": "https://localhost:8080/"
        }
      },
      "outputs": [
        {
          "output_type": "stream",
          "name": "stdout",
          "text": [
            "Лучший параметр C: 0.1\n",
            "Лучшая точность на обучении (cv): 0.9380\n",
            "Точность на тестовой выборке: 0.9620\n"
          ]
        }
      ],
      "source": [
        "print(f\"Лучший параметр C: {grid_svc.best_params_['C']}\")\n",
        "print(f\"Лучшая точность на обучении (cv): {grid_svc.best_score_:.4f}\")\n",
        "\n",
        "# Оценка на тестовой выборке\n",
        "test_accuracy = best_svc.score(X_test_scaled, y_test)\n",
        "print(f\"Точность на тестовой выборке: {test_accuracy:.4f}\")"
      ]
    },
    {
      "cell_type": "markdown",
      "metadata": {
        "id": "K3Gj0SnxR24N"
      },
      "source": [
        "**Вопрос 7**<br>\n",
        "Какое значение гиперпараметра `C` было выбрано лучшим по итогам кросс-валидации?<br>\n",
        "\n",
        "**Ответ:**\n",
        "- 0.001\n",
        "- 0.01\n",
        "- 0.1 - верный\n",
        "- 1\n",
        "- 10"
      ]
    },
    {
      "cell_type": "code",
      "execution_count": 49,
      "metadata": {
        "id": "VTN7iFo8R24N"
      },
      "outputs": [],
      "source": [
        "y_predicted = best_svc.predict(X_test_scaled)"
      ]
    },
    {
      "cell_type": "code",
      "execution_count": 50,
      "metadata": {
        "id": "lK004GtGR24O",
        "outputId": "9f762925-fe18-4e7d-c1df-a44b52da5d18",
        "colab": {
          "base_uri": "https://localhost:8080/",
          "height": 304
        }
      },
      "outputs": [
        {
          "output_type": "execute_result",
          "data": {
            "text/plain": [
              "                          ходьба  подъем вверх по лестнице  спуск по лестнице  \\\n",
              "ходьба                       494                         2                  0   \n",
              "подъем вверх по лестнице      12                       459                  0   \n",
              "спуск по лестнице              2                         4                413   \n",
              "сидение                        0                         4                  0   \n",
              "стояние                        0                         0                  0   \n",
              "лежание                        0                         0                  0   \n",
              "все                          508                       469                413   \n",
              "\n",
              "                          сидение  стояние  лежание   все  \n",
              "ходьба                          0        0        0   496  \n",
              "подъем вверх по лестнице        0        0        0   471  \n",
              "спуск по лестнице               1        0        0   420  \n",
              "сидение                       426       61        0   491  \n",
              "стояние                        15      517        0   532  \n",
              "лежание                         0       11      526   537  \n",
              "все                           442      589      526  2947  "
            ],
            "text/html": [
              "\n",
              "  <div id=\"df-491bc5b1-63ca-4c56-807f-e7a42b1ee350\" class=\"colab-df-container\">\n",
              "    <div>\n",
              "<style scoped>\n",
              "    .dataframe tbody tr th:only-of-type {\n",
              "        vertical-align: middle;\n",
              "    }\n",
              "\n",
              "    .dataframe tbody tr th {\n",
              "        vertical-align: top;\n",
              "    }\n",
              "\n",
              "    .dataframe thead th {\n",
              "        text-align: right;\n",
              "    }\n",
              "</style>\n",
              "<table border=\"1\" class=\"dataframe\">\n",
              "  <thead>\n",
              "    <tr style=\"text-align: right;\">\n",
              "      <th></th>\n",
              "      <th>ходьба</th>\n",
              "      <th>подъем вверх по лестнице</th>\n",
              "      <th>спуск по лестнице</th>\n",
              "      <th>сидение</th>\n",
              "      <th>стояние</th>\n",
              "      <th>лежание</th>\n",
              "      <th>все</th>\n",
              "    </tr>\n",
              "  </thead>\n",
              "  <tbody>\n",
              "    <tr>\n",
              "      <th>ходьба</th>\n",
              "      <td>494</td>\n",
              "      <td>2</td>\n",
              "      <td>0</td>\n",
              "      <td>0</td>\n",
              "      <td>0</td>\n",
              "      <td>0</td>\n",
              "      <td>496</td>\n",
              "    </tr>\n",
              "    <tr>\n",
              "      <th>подъем вверх по лестнице</th>\n",
              "      <td>12</td>\n",
              "      <td>459</td>\n",
              "      <td>0</td>\n",
              "      <td>0</td>\n",
              "      <td>0</td>\n",
              "      <td>0</td>\n",
              "      <td>471</td>\n",
              "    </tr>\n",
              "    <tr>\n",
              "      <th>спуск по лестнице</th>\n",
              "      <td>2</td>\n",
              "      <td>4</td>\n",
              "      <td>413</td>\n",
              "      <td>1</td>\n",
              "      <td>0</td>\n",
              "      <td>0</td>\n",
              "      <td>420</td>\n",
              "    </tr>\n",
              "    <tr>\n",
              "      <th>сидение</th>\n",
              "      <td>0</td>\n",
              "      <td>4</td>\n",
              "      <td>0</td>\n",
              "      <td>426</td>\n",
              "      <td>61</td>\n",
              "      <td>0</td>\n",
              "      <td>491</td>\n",
              "    </tr>\n",
              "    <tr>\n",
              "      <th>стояние</th>\n",
              "      <td>0</td>\n",
              "      <td>0</td>\n",
              "      <td>0</td>\n",
              "      <td>15</td>\n",
              "      <td>517</td>\n",
              "      <td>0</td>\n",
              "      <td>532</td>\n",
              "    </tr>\n",
              "    <tr>\n",
              "      <th>лежание</th>\n",
              "      <td>0</td>\n",
              "      <td>0</td>\n",
              "      <td>0</td>\n",
              "      <td>0</td>\n",
              "      <td>11</td>\n",
              "      <td>526</td>\n",
              "      <td>537</td>\n",
              "    </tr>\n",
              "    <tr>\n",
              "      <th>все</th>\n",
              "      <td>508</td>\n",
              "      <td>469</td>\n",
              "      <td>413</td>\n",
              "      <td>442</td>\n",
              "      <td>589</td>\n",
              "      <td>526</td>\n",
              "      <td>2947</td>\n",
              "    </tr>\n",
              "  </tbody>\n",
              "</table>\n",
              "</div>\n",
              "    <div class=\"colab-df-buttons\">\n",
              "\n",
              "  <div class=\"colab-df-container\">\n",
              "    <button class=\"colab-df-convert\" onclick=\"convertToInteractive('df-491bc5b1-63ca-4c56-807f-e7a42b1ee350')\"\n",
              "            title=\"Convert this dataframe to an interactive table.\"\n",
              "            style=\"display:none;\">\n",
              "\n",
              "  <svg xmlns=\"http://www.w3.org/2000/svg\" height=\"24px\" viewBox=\"0 -960 960 960\">\n",
              "    <path d=\"M120-120v-720h720v720H120Zm60-500h600v-160H180v160Zm220 220h160v-160H400v160Zm0 220h160v-160H400v160ZM180-400h160v-160H180v160Zm440 0h160v-160H620v160ZM180-180h160v-160H180v160Zm440 0h160v-160H620v160Z\"/>\n",
              "  </svg>\n",
              "    </button>\n",
              "\n",
              "  <style>\n",
              "    .colab-df-container {\n",
              "      display:flex;\n",
              "      gap: 12px;\n",
              "    }\n",
              "\n",
              "    .colab-df-convert {\n",
              "      background-color: #E8F0FE;\n",
              "      border: none;\n",
              "      border-radius: 50%;\n",
              "      cursor: pointer;\n",
              "      display: none;\n",
              "      fill: #1967D2;\n",
              "      height: 32px;\n",
              "      padding: 0 0 0 0;\n",
              "      width: 32px;\n",
              "    }\n",
              "\n",
              "    .colab-df-convert:hover {\n",
              "      background-color: #E2EBFA;\n",
              "      box-shadow: 0px 1px 2px rgba(60, 64, 67, 0.3), 0px 1px 3px 1px rgba(60, 64, 67, 0.15);\n",
              "      fill: #174EA6;\n",
              "    }\n",
              "\n",
              "    .colab-df-buttons div {\n",
              "      margin-bottom: 4px;\n",
              "    }\n",
              "\n",
              "    [theme=dark] .colab-df-convert {\n",
              "      background-color: #3B4455;\n",
              "      fill: #D2E3FC;\n",
              "    }\n",
              "\n",
              "    [theme=dark] .colab-df-convert:hover {\n",
              "      background-color: #434B5C;\n",
              "      box-shadow: 0px 1px 3px 1px rgba(0, 0, 0, 0.15);\n",
              "      filter: drop-shadow(0px 1px 2px rgba(0, 0, 0, 0.3));\n",
              "      fill: #FFFFFF;\n",
              "    }\n",
              "  </style>\n",
              "\n",
              "    <script>\n",
              "      const buttonEl =\n",
              "        document.querySelector('#df-491bc5b1-63ca-4c56-807f-e7a42b1ee350 button.colab-df-convert');\n",
              "      buttonEl.style.display =\n",
              "        google.colab.kernel.accessAllowed ? 'block' : 'none';\n",
              "\n",
              "      async function convertToInteractive(key) {\n",
              "        const element = document.querySelector('#df-491bc5b1-63ca-4c56-807f-e7a42b1ee350');\n",
              "        const dataTable =\n",
              "          await google.colab.kernel.invokeFunction('convertToInteractive',\n",
              "                                                    [key], {});\n",
              "        if (!dataTable) return;\n",
              "\n",
              "        const docLinkHtml = 'Like what you see? Visit the ' +\n",
              "          '<a target=\"_blank\" href=https://colab.research.google.com/notebooks/data_table.ipynb>data table notebook</a>'\n",
              "          + ' to learn more about interactive tables.';\n",
              "        element.innerHTML = '';\n",
              "        dataTable['output_type'] = 'display_data';\n",
              "        await google.colab.output.renderOutput(dataTable, element);\n",
              "        const docLink = document.createElement('div');\n",
              "        docLink.innerHTML = docLinkHtml;\n",
              "        element.appendChild(docLink);\n",
              "      }\n",
              "    </script>\n",
              "  </div>\n",
              "\n",
              "\n",
              "<div id=\"df-149dc0da-6275-429e-8be6-d4e166b2d6bc\">\n",
              "  <button class=\"colab-df-quickchart\" onclick=\"quickchart('df-149dc0da-6275-429e-8be6-d4e166b2d6bc')\"\n",
              "            title=\"Suggest charts\"\n",
              "            style=\"display:none;\">\n",
              "\n",
              "<svg xmlns=\"http://www.w3.org/2000/svg\" height=\"24px\"viewBox=\"0 0 24 24\"\n",
              "     width=\"24px\">\n",
              "    <g>\n",
              "        <path d=\"M19 3H5c-1.1 0-2 .9-2 2v14c0 1.1.9 2 2 2h14c1.1 0 2-.9 2-2V5c0-1.1-.9-2-2-2zM9 17H7v-7h2v7zm4 0h-2V7h2v10zm4 0h-2v-4h2v4z\"/>\n",
              "    </g>\n",
              "</svg>\n",
              "  </button>\n",
              "\n",
              "<style>\n",
              "  .colab-df-quickchart {\n",
              "      --bg-color: #E8F0FE;\n",
              "      --fill-color: #1967D2;\n",
              "      --hover-bg-color: #E2EBFA;\n",
              "      --hover-fill-color: #174EA6;\n",
              "      --disabled-fill-color: #AAA;\n",
              "      --disabled-bg-color: #DDD;\n",
              "  }\n",
              "\n",
              "  [theme=dark] .colab-df-quickchart {\n",
              "      --bg-color: #3B4455;\n",
              "      --fill-color: #D2E3FC;\n",
              "      --hover-bg-color: #434B5C;\n",
              "      --hover-fill-color: #FFFFFF;\n",
              "      --disabled-bg-color: #3B4455;\n",
              "      --disabled-fill-color: #666;\n",
              "  }\n",
              "\n",
              "  .colab-df-quickchart {\n",
              "    background-color: var(--bg-color);\n",
              "    border: none;\n",
              "    border-radius: 50%;\n",
              "    cursor: pointer;\n",
              "    display: none;\n",
              "    fill: var(--fill-color);\n",
              "    height: 32px;\n",
              "    padding: 0;\n",
              "    width: 32px;\n",
              "  }\n",
              "\n",
              "  .colab-df-quickchart:hover {\n",
              "    background-color: var(--hover-bg-color);\n",
              "    box-shadow: 0 1px 2px rgba(60, 64, 67, 0.3), 0 1px 3px 1px rgba(60, 64, 67, 0.15);\n",
              "    fill: var(--button-hover-fill-color);\n",
              "  }\n",
              "\n",
              "  .colab-df-quickchart-complete:disabled,\n",
              "  .colab-df-quickchart-complete:disabled:hover {\n",
              "    background-color: var(--disabled-bg-color);\n",
              "    fill: var(--disabled-fill-color);\n",
              "    box-shadow: none;\n",
              "  }\n",
              "\n",
              "  .colab-df-spinner {\n",
              "    border: 2px solid var(--fill-color);\n",
              "    border-color: transparent;\n",
              "    border-bottom-color: var(--fill-color);\n",
              "    animation:\n",
              "      spin 1s steps(1) infinite;\n",
              "  }\n",
              "\n",
              "  @keyframes spin {\n",
              "    0% {\n",
              "      border-color: transparent;\n",
              "      border-bottom-color: var(--fill-color);\n",
              "      border-left-color: var(--fill-color);\n",
              "    }\n",
              "    20% {\n",
              "      border-color: transparent;\n",
              "      border-left-color: var(--fill-color);\n",
              "      border-top-color: var(--fill-color);\n",
              "    }\n",
              "    30% {\n",
              "      border-color: transparent;\n",
              "      border-left-color: var(--fill-color);\n",
              "      border-top-color: var(--fill-color);\n",
              "      border-right-color: var(--fill-color);\n",
              "    }\n",
              "    40% {\n",
              "      border-color: transparent;\n",
              "      border-right-color: var(--fill-color);\n",
              "      border-top-color: var(--fill-color);\n",
              "    }\n",
              "    60% {\n",
              "      border-color: transparent;\n",
              "      border-right-color: var(--fill-color);\n",
              "    }\n",
              "    80% {\n",
              "      border-color: transparent;\n",
              "      border-right-color: var(--fill-color);\n",
              "      border-bottom-color: var(--fill-color);\n",
              "    }\n",
              "    90% {\n",
              "      border-color: transparent;\n",
              "      border-bottom-color: var(--fill-color);\n",
              "    }\n",
              "  }\n",
              "</style>\n",
              "\n",
              "  <script>\n",
              "    async function quickchart(key) {\n",
              "      const quickchartButtonEl =\n",
              "        document.querySelector('#' + key + ' button');\n",
              "      quickchartButtonEl.disabled = true;  // To prevent multiple clicks.\n",
              "      quickchartButtonEl.classList.add('colab-df-spinner');\n",
              "      try {\n",
              "        const charts = await google.colab.kernel.invokeFunction(\n",
              "            'suggestCharts', [key], {});\n",
              "      } catch (error) {\n",
              "        console.error('Error during call to suggestCharts:', error);\n",
              "      }\n",
              "      quickchartButtonEl.classList.remove('colab-df-spinner');\n",
              "      quickchartButtonEl.classList.add('colab-df-quickchart-complete');\n",
              "    }\n",
              "    (() => {\n",
              "      let quickchartButtonEl =\n",
              "        document.querySelector('#df-149dc0da-6275-429e-8be6-d4e166b2d6bc button');\n",
              "      quickchartButtonEl.style.display =\n",
              "        google.colab.kernel.accessAllowed ? 'block' : 'none';\n",
              "    })();\n",
              "  </script>\n",
              "</div>\n",
              "    </div>\n",
              "  </div>\n"
            ],
            "application/vnd.google.colaboratory.intrinsic+json": {
              "type": "dataframe",
              "variable_name": "tab",
              "summary": "{\n  \"name\": \"tab\",\n  \"rows\": 7,\n  \"fields\": [\n    {\n      \"column\": \"\\u0445\\u043e\\u0434\\u044c\\u0431\\u0430\",\n      \"properties\": {\n        \"dtype\": \"number\",\n        \"std\": 243,\n        \"min\": 0,\n        \"max\": 508,\n        \"num_unique_values\": 5,\n        \"samples\": [\n          12,\n          508,\n          2\n        ],\n        \"semantic_type\": \"\",\n        \"description\": \"\"\n      }\n    },\n    {\n      \"column\": \"\\u043f\\u043e\\u0434\\u044a\\u0435\\u043c \\u0432\\u0432\\u0435\\u0440\\u0445 \\u043f\\u043e \\u043b\\u0435\\u0441\\u0442\\u043d\\u0438\\u0446\\u0435\",\n      \"properties\": {\n        \"dtype\": \"number\",\n        \"std\": 225,\n        \"min\": 0,\n        \"max\": 469,\n        \"num_unique_values\": 5,\n        \"samples\": [\n          459,\n          469,\n          4\n        ],\n        \"semantic_type\": \"\",\n        \"description\": \"\"\n      }\n    },\n    {\n      \"column\": \"\\u0441\\u043f\\u0443\\u0441\\u043a \\u043f\\u043e \\u043b\\u0435\\u0441\\u0442\\u043d\\u0438\\u0446\\u0435\",\n      \"properties\": {\n        \"dtype\": \"number\",\n        \"std\": 201,\n        \"min\": 0,\n        \"max\": 413,\n        \"num_unique_values\": 2,\n        \"samples\": [\n          413,\n          0\n        ],\n        \"semantic_type\": \"\",\n        \"description\": \"\"\n      }\n    },\n    {\n      \"column\": \"\\u0441\\u0438\\u0434\\u0435\\u043d\\u0438\\u0435\",\n      \"properties\": {\n        \"dtype\": \"number\",\n        \"std\": 210,\n        \"min\": 0,\n        \"max\": 442,\n        \"num_unique_values\": 5,\n        \"samples\": [\n          1,\n          442\n        ],\n        \"semantic_type\": \"\",\n        \"description\": \"\"\n      }\n    },\n    {\n      \"column\": \"\\u0441\\u0442\\u043e\\u044f\\u043d\\u0438\\u0435\",\n      \"properties\": {\n        \"dtype\": \"number\",\n        \"std\": 264,\n        \"min\": 0,\n        \"max\": 589,\n        \"num_unique_values\": 5,\n        \"samples\": [\n          61,\n          589\n        ],\n        \"semantic_type\": \"\",\n        \"description\": \"\"\n      }\n    },\n    {\n      \"column\": \"\\u043b\\u0435\\u0436\\u0430\\u043d\\u0438\\u0435\",\n      \"properties\": {\n        \"dtype\": \"number\",\n        \"std\": 256,\n        \"min\": 0,\n        \"max\": 526,\n        \"num_unique_values\": 2,\n        \"samples\": [\n          526,\n          0\n        ],\n        \"semantic_type\": \"\",\n        \"description\": \"\"\n      }\n    },\n    {\n      \"column\": \"\\u0432\\u0441\\u0435\",\n      \"properties\": {\n        \"dtype\": \"number\",\n        \"std\": 929,\n        \"min\": 420,\n        \"max\": 2947,\n        \"num_unique_values\": 7,\n        \"samples\": [\n          496,\n          471\n        ],\n        \"semantic_type\": \"\",\n        \"description\": \"\"\n      }\n    }\n  ]\n}"
            }
          },
          "metadata": {},
          "execution_count": 50
        }
      ],
      "source": [
        "tab = pd.crosstab(y_test, y_predicted, margins=True)\n",
        "tab.index = ['ходьба', 'подъем вверх по лестнице', 'спуск по лестнице',\n",
        "             'сидение', 'стояние', 'лежание', 'все']\n",
        "tab.columns = tab.index\n",
        "tab"
      ]
    },
    {
      "cell_type": "markdown",
      "metadata": {
        "id": "3kgzfjgxR24O"
      },
      "source": [
        "**Вопрос 8:**<br>\n",
        "Какой вид активности SVM определяет хуже всего в терминах точности? Полноты? <br>\n",
        "\n",
        "**Ответ:**\n",
        "- по точности – подъем вверх по лестнице, по полноте – лежание\n",
        "- по точности – лежание, по полноте – сидение - верный\n",
        "- по точности – ходьба, по полноте – ходьба\n",
        "- по точности – сидение, по полноте – стояние"
      ]
    },
    {
      "cell_type": "code",
      "source": [
        "# Анализ точности и полноты\n",
        "from sklearn.metrics import classification_report\n",
        "\n",
        "report = classification_report(y_test, y_predicted, target_names=tab.index[:-1])\n",
        "print(\"Отчет классификации:\\n\", report)"
      ],
      "metadata": {
        "id": "aBfKTWXrdKBf",
        "outputId": "7f091f0f-97bf-41fa-afd2-b58c970ee8d9",
        "colab": {
          "base_uri": "https://localhost:8080/"
        }
      },
      "execution_count": 52,
      "outputs": [
        {
          "output_type": "stream",
          "name": "stdout",
          "text": [
            "Отчет классификации:\n",
            "                           precision    recall  f1-score   support\n",
            "\n",
            "                  ходьба       0.97      1.00      0.98       496\n",
            "подъем вверх по лестнице       0.98      0.97      0.98       471\n",
            "       спуск по лестнице       1.00      0.98      0.99       420\n",
            "                 сидение       0.96      0.87      0.91       491\n",
            "                 стояние       0.88      0.97      0.92       532\n",
            "                 лежание       1.00      0.98      0.99       537\n",
            "\n",
            "                accuracy                           0.96      2947\n",
            "               macro avg       0.97      0.96      0.96      2947\n",
            "            weighted avg       0.96      0.96      0.96      2947\n",
            "\n"
          ]
        }
      ]
    },
    {
      "cell_type": "markdown",
      "metadata": {
        "id": "UL6ycfUFR24O"
      },
      "source": [
        "Наконец, проделайте то же самое, что в 7 вопросе, только добавив PCA.\n",
        "\n",
        "- Используйте выборки `X_train_scaled` и `X_test_scaled`\n",
        "- Обучите тот же PCA, что раньше, на отмасшабированной обучающей выборке, примените преобразование к тестовой\n",
        "- Настройте гиперпараметр `C` на кросс-валидации по обучающей выборке с PCA-преобразованием. Вы заметите, насколько это проходит быстрее, чем раньше.\n",
        "\n",
        "**Вопрос 9:**<br>\n",
        "Какова разность между лучшим качеством (долей верных ответов) на кросс-валидации в случае всех 561 исходных признаков и во втором случае, когда применялся метод главных компонент? Округлите до целых процентов.<br>\n",
        "\n",
        "**Варианты:**\n",
        "- Качество одинаковое\n",
        "- 2%\n",
        "- 4% - верный\n",
        "- 10%\n",
        "- 20%\n"
      ]
    },
    {
      "cell_type": "code",
      "source": [
        "# Вопрос 9: PCA и классификация\n",
        "# Обучение PCA на обучающей выборке\n",
        "pca = PCA(n_components=n_components, random_state=RANDOM_STATE)\n",
        "X_train_pca = pca.fit_transform(X_train_scaled)\n",
        "X_test_pca = pca.transform(X_test_scaled)\n",
        "\n",
        "# Настройка GridSearchCV с PCA-преобразованием\n",
        "grid_svc_pca = GridSearchCV(svc, svc_params, cv=3, scoring='accuracy', verbose=1)\n",
        "grid_svc_pca.fit(X_train_pca, y_train)\n",
        "\n",
        "# Лучшая точность и параметр C для PCA\n",
        "best_svc_pca = grid_svc_pca.best_estimator_\n",
        "best_cv_score_pca = grid_svc_pca.best_score_\n",
        "\n",
        "print(f\"Лучший параметр C с PCA: {grid_svc_pca.best_params_['C']}\")\n",
        "print(f\"Лучшая точность на кросс-валидации с PCA: {best_cv_score_pca:.4f}\")\n",
        "\n",
        "# Оценка на тестовой выборке с PCA\n",
        "test_accuracy_pca = best_svc_pca.score(X_test_pca, y_test)\n",
        "print(f\"Точность на тестовой выборке с PCA: {test_accuracy_pca:.4f}\")\n",
        "\n",
        "# Разница в качестве\n",
        "quality_difference = grid_svc.best_score_ - best_cv_score_pca\n",
        "print(f\"Разница в качестве (доля верных ответов): {quality_difference:.4f}\")"
      ],
      "metadata": {
        "id": "R1F6z8KadU_P",
        "outputId": "9a79835f-7511-4952-8985-d8dbb6072c10",
        "colab": {
          "base_uri": "https://localhost:8080/"
        }
      },
      "execution_count": 53,
      "outputs": [
        {
          "output_type": "stream",
          "name": "stdout",
          "text": [
            "Fitting 3 folds for each of 5 candidates, totalling 15 fits\n",
            "Лучший параметр C с PCA: 0.1\n",
            "Лучшая точность на кросс-валидации с PCA: 0.8991\n",
            "Точность на тестовой выборке с PCA: 0.9213\n",
            "Разница в качестве (доля верных ответов): 0.0389\n"
          ]
        }
      ]
    },
    {
      "cell_type": "markdown",
      "metadata": {
        "id": "rLXcXbstR24O"
      },
      "source": [
        "**Вопрос 10:**<br>\n",
        "Выберите все верные утверждения:\n",
        "\n",
        "**Варианты:**\n",
        "- Метод главных компонент в данном случае позволил уменьшить время обучения модели, при этом качество (доля верных ответов на кросс-валидации) очень пострадало, более чем на 10%\n",
        "- PCA можно использовать для визуализации данных, однако для этой задачи есть и лучше подходящие методы, например, tSNE. Зато PCA имеет меньшую вычислительную сложность - верный\n",
        "- PCA строит линейные комбинации исходных признаков, и в некоторых задачах они могут плохо интерпретироваться человеком - верный"
      ]
    }
  ],
  "metadata": {
    "anaconda-cloud": {},
    "kernelspec": {
      "display_name": "Python 3 (ipykernel)",
      "language": "python",
      "name": "python3"
    },
    "language_info": {
      "codemirror_mode": {
        "name": "ipython",
        "version": 3
      },
      "file_extension": ".py",
      "mimetype": "text/x-python",
      "name": "python",
      "nbconvert_exporter": "python",
      "pygments_lexer": "ipython3",
      "version": "3.11.7"
    },
    "colab": {
      "provenance": []
    },
    "widgets": {
      "application/vnd.jupyter.widget-state+json": {
        "2b18ef51974a48208d7087fa07623cfc": {
          "model_module": "@jupyter-widgets/controls",
          "model_name": "HBoxModel",
          "model_module_version": "1.5.0",
          "state": {
            "_dom_classes": [],
            "_model_module": "@jupyter-widgets/controls",
            "_model_module_version": "1.5.0",
            "_model_name": "HBoxModel",
            "_view_count": null,
            "_view_module": "@jupyter-widgets/controls",
            "_view_module_version": "1.5.0",
            "_view_name": "HBoxView",
            "box_style": "",
            "children": [
              "IPY_MODEL_6335c4a8c6f94d42adfbaf591059ca7b",
              "IPY_MODEL_25287465599f4c819976f0a32cabd52e",
              "IPY_MODEL_94c0d560cc324c80af9b479e1bcfa35e"
            ],
            "layout": "IPY_MODEL_d6d21c8f50934b81bd6b4a8697f9824c"
          }
        },
        "6335c4a8c6f94d42adfbaf591059ca7b": {
          "model_module": "@jupyter-widgets/controls",
          "model_name": "HTMLModel",
          "model_module_version": "1.5.0",
          "state": {
            "_dom_classes": [],
            "_model_module": "@jupyter-widgets/controls",
            "_model_module_version": "1.5.0",
            "_model_name": "HTMLModel",
            "_view_count": null,
            "_view_module": "@jupyter-widgets/controls",
            "_view_module_version": "1.5.0",
            "_view_name": "HTMLView",
            "description": "",
            "description_tooltip": null,
            "layout": "IPY_MODEL_3dfc0b984a404db0b549e2d4136c34a0",
            "placeholder": "​",
            "style": "IPY_MODEL_e8833511ae4d497db1d56c438971a2ca",
            "value": "100%"
          }
        },
        "25287465599f4c819976f0a32cabd52e": {
          "model_module": "@jupyter-widgets/controls",
          "model_name": "FloatProgressModel",
          "model_module_version": "1.5.0",
          "state": {
            "_dom_classes": [],
            "_model_module": "@jupyter-widgets/controls",
            "_model_module_version": "1.5.0",
            "_model_name": "FloatProgressModel",
            "_view_count": null,
            "_view_module": "@jupyter-widgets/controls",
            "_view_module_version": "1.5.0",
            "_view_name": "ProgressView",
            "bar_style": "success",
            "description": "",
            "description_tooltip": null,
            "layout": "IPY_MODEL_393688da848040048e8cbe10f012f74b",
            "max": 6,
            "min": 0,
            "orientation": "horizontal",
            "style": "IPY_MODEL_2d6a4ced36004435ad5f1aba6034d8ca",
            "value": 6
          }
        },
        "94c0d560cc324c80af9b479e1bcfa35e": {
          "model_module": "@jupyter-widgets/controls",
          "model_name": "HTMLModel",
          "model_module_version": "1.5.0",
          "state": {
            "_dom_classes": [],
            "_model_module": "@jupyter-widgets/controls",
            "_model_module_version": "1.5.0",
            "_model_name": "HTMLModel",
            "_view_count": null,
            "_view_module": "@jupyter-widgets/controls",
            "_view_module_version": "1.5.0",
            "_view_name": "HTMLView",
            "description": "",
            "description_tooltip": null,
            "layout": "IPY_MODEL_b8ba1e87519145eda2ef2483b00a277f",
            "placeholder": "​",
            "style": "IPY_MODEL_3f78acf910b64ec7b4bd854f0e4ca17e",
            "value": " 6/6 [00:35&lt;00:00,  8.12s/it]"
          }
        },
        "d6d21c8f50934b81bd6b4a8697f9824c": {
          "model_module": "@jupyter-widgets/base",
          "model_name": "LayoutModel",
          "model_module_version": "1.2.0",
          "state": {
            "_model_module": "@jupyter-widgets/base",
            "_model_module_version": "1.2.0",
            "_model_name": "LayoutModel",
            "_view_count": null,
            "_view_module": "@jupyter-widgets/base",
            "_view_module_version": "1.2.0",
            "_view_name": "LayoutView",
            "align_content": null,
            "align_items": null,
            "align_self": null,
            "border": null,
            "bottom": null,
            "display": null,
            "flex": null,
            "flex_flow": null,
            "grid_area": null,
            "grid_auto_columns": null,
            "grid_auto_flow": null,
            "grid_auto_rows": null,
            "grid_column": null,
            "grid_gap": null,
            "grid_row": null,
            "grid_template_areas": null,
            "grid_template_columns": null,
            "grid_template_rows": null,
            "height": null,
            "justify_content": null,
            "justify_items": null,
            "left": null,
            "margin": null,
            "max_height": null,
            "max_width": null,
            "min_height": null,
            "min_width": null,
            "object_fit": null,
            "object_position": null,
            "order": null,
            "overflow": null,
            "overflow_x": null,
            "overflow_y": null,
            "padding": null,
            "right": null,
            "top": null,
            "visibility": null,
            "width": null
          }
        },
        "3dfc0b984a404db0b549e2d4136c34a0": {
          "model_module": "@jupyter-widgets/base",
          "model_name": "LayoutModel",
          "model_module_version": "1.2.0",
          "state": {
            "_model_module": "@jupyter-widgets/base",
            "_model_module_version": "1.2.0",
            "_model_name": "LayoutModel",
            "_view_count": null,
            "_view_module": "@jupyter-widgets/base",
            "_view_module_version": "1.2.0",
            "_view_name": "LayoutView",
            "align_content": null,
            "align_items": null,
            "align_self": null,
            "border": null,
            "bottom": null,
            "display": null,
            "flex": null,
            "flex_flow": null,
            "grid_area": null,
            "grid_auto_columns": null,
            "grid_auto_flow": null,
            "grid_auto_rows": null,
            "grid_column": null,
            "grid_gap": null,
            "grid_row": null,
            "grid_template_areas": null,
            "grid_template_columns": null,
            "grid_template_rows": null,
            "height": null,
            "justify_content": null,
            "justify_items": null,
            "left": null,
            "margin": null,
            "max_height": null,
            "max_width": null,
            "min_height": null,
            "min_width": null,
            "object_fit": null,
            "object_position": null,
            "order": null,
            "overflow": null,
            "overflow_x": null,
            "overflow_y": null,
            "padding": null,
            "right": null,
            "top": null,
            "visibility": null,
            "width": null
          }
        },
        "e8833511ae4d497db1d56c438971a2ca": {
          "model_module": "@jupyter-widgets/controls",
          "model_name": "DescriptionStyleModel",
          "model_module_version": "1.5.0",
          "state": {
            "_model_module": "@jupyter-widgets/controls",
            "_model_module_version": "1.5.0",
            "_model_name": "DescriptionStyleModel",
            "_view_count": null,
            "_view_module": "@jupyter-widgets/base",
            "_view_module_version": "1.2.0",
            "_view_name": "StyleView",
            "description_width": ""
          }
        },
        "393688da848040048e8cbe10f012f74b": {
          "model_module": "@jupyter-widgets/base",
          "model_name": "LayoutModel",
          "model_module_version": "1.2.0",
          "state": {
            "_model_module": "@jupyter-widgets/base",
            "_model_module_version": "1.2.0",
            "_model_name": "LayoutModel",
            "_view_count": null,
            "_view_module": "@jupyter-widgets/base",
            "_view_module_version": "1.2.0",
            "_view_name": "LayoutView",
            "align_content": null,
            "align_items": null,
            "align_self": null,
            "border": null,
            "bottom": null,
            "display": null,
            "flex": null,
            "flex_flow": null,
            "grid_area": null,
            "grid_auto_columns": null,
            "grid_auto_flow": null,
            "grid_auto_rows": null,
            "grid_column": null,
            "grid_gap": null,
            "grid_row": null,
            "grid_template_areas": null,
            "grid_template_columns": null,
            "grid_template_rows": null,
            "height": null,
            "justify_content": null,
            "justify_items": null,
            "left": null,
            "margin": null,
            "max_height": null,
            "max_width": null,
            "min_height": null,
            "min_width": null,
            "object_fit": null,
            "object_position": null,
            "order": null,
            "overflow": null,
            "overflow_x": null,
            "overflow_y": null,
            "padding": null,
            "right": null,
            "top": null,
            "visibility": null,
            "width": null
          }
        },
        "2d6a4ced36004435ad5f1aba6034d8ca": {
          "model_module": "@jupyter-widgets/controls",
          "model_name": "ProgressStyleModel",
          "model_module_version": "1.5.0",
          "state": {
            "_model_module": "@jupyter-widgets/controls",
            "_model_module_version": "1.5.0",
            "_model_name": "ProgressStyleModel",
            "_view_count": null,
            "_view_module": "@jupyter-widgets/base",
            "_view_module_version": "1.2.0",
            "_view_name": "StyleView",
            "bar_color": null,
            "description_width": ""
          }
        },
        "b8ba1e87519145eda2ef2483b00a277f": {
          "model_module": "@jupyter-widgets/base",
          "model_name": "LayoutModel",
          "model_module_version": "1.2.0",
          "state": {
            "_model_module": "@jupyter-widgets/base",
            "_model_module_version": "1.2.0",
            "_model_name": "LayoutModel",
            "_view_count": null,
            "_view_module": "@jupyter-widgets/base",
            "_view_module_version": "1.2.0",
            "_view_name": "LayoutView",
            "align_content": null,
            "align_items": null,
            "align_self": null,
            "border": null,
            "bottom": null,
            "display": null,
            "flex": null,
            "flex_flow": null,
            "grid_area": null,
            "grid_auto_columns": null,
            "grid_auto_flow": null,
            "grid_auto_rows": null,
            "grid_column": null,
            "grid_gap": null,
            "grid_row": null,
            "grid_template_areas": null,
            "grid_template_columns": null,
            "grid_template_rows": null,
            "height": null,
            "justify_content": null,
            "justify_items": null,
            "left": null,
            "margin": null,
            "max_height": null,
            "max_width": null,
            "min_height": null,
            "min_width": null,
            "object_fit": null,
            "object_position": null,
            "order": null,
            "overflow": null,
            "overflow_x": null,
            "overflow_y": null,
            "padding": null,
            "right": null,
            "top": null,
            "visibility": null,
            "width": null
          }
        },
        "3f78acf910b64ec7b4bd854f0e4ca17e": {
          "model_module": "@jupyter-widgets/controls",
          "model_name": "DescriptionStyleModel",
          "model_module_version": "1.5.0",
          "state": {
            "_model_module": "@jupyter-widgets/controls",
            "_model_module_version": "1.5.0",
            "_model_name": "DescriptionStyleModel",
            "_view_count": null,
            "_view_module": "@jupyter-widgets/base",
            "_view_module_version": "1.2.0",
            "_view_name": "StyleView",
            "description_width": ""
          }
        }
      }
    }
  },
  "nbformat": 4,
  "nbformat_minor": 0
}