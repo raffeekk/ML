{
  "cells": [
    {
      "cell_type": "markdown",
      "metadata": {
        "id": "view-in-github",
        "colab_type": "text"
      },
      "source": [
        "<a href=\"https://colab.research.google.com/github/raffeekk/ML/blob/main/%D0%A2%D0%B5%D0%BC%D0%B0%205/assignment05_logit_rf_credit_scoring.ipynb\" target=\"_parent\"><img src=\"https://colab.research.google.com/assets/colab-badge.svg\" alt=\"Open In Colab\"/></a>"
      ]
    },
    {
      "cell_type": "markdown",
      "metadata": {
        "id": "IUNKdCcS9_UU"
      },
      "source": [
        "# <center> Домашнее задание № 5.\n",
        "## <center> Логистическая регрессия и случайный лес в задаче кредитного скоринга"
      ]
    },
    {
      "cell_type": "markdown",
      "metadata": {
        "id": "p41CTAu99_UX"
      },
      "source": [
        "### Нашей главной задачей будет построение модели для задачи кредитного скоринга.\n",
        "\n",
        "Но для разминки решите первое задание :)\n",
        "\n",
        "**Задание 1.** В зале суда есть 5 присяжных, каждый из них по отдельности с вероятностью 70% может правильно определить, виновен подсудимый или нет. С какой вероятностью они все вместе вынесут правильный вердикт, если решение принимается большинством голосов?\n",
        "- 70.00%\n",
        "- 83.20%\n",
        "- 83.70%\n",
        "- 87.50%\n",
        "\n",
        "Теперь перейдем непосредственно к машинному обучению.\n",
        "\n",
        "#### Данные представлены следующим образом:\n",
        "\n",
        "##### Прогнозируемая  переменная\n",
        "* SeriousDlqin2yrs\t      – Человек не выплатил данный кредит в течение 90 дней; возможные значения  1/0\n",
        "\n",
        "##### Независимые признаки\n",
        "* age\t                          –  Возраст заёмщика кредитных средств; тип - integer\n",
        "* NumberOfTime30-59DaysPastDueNotWorse\t – Количество раз, когда человек имел просрочку выплаты других кредитов более 30-59 дней, но не больше в течение последних двух лет; тип -\tinteger\n",
        "* DebtRatio  – \tЕжемесячный отчисления на задолжености(кредиты,алименты и т.д.)  / совокупный месячный доход \tpercentage; тип -\treal\n",
        "* MonthlyIncome\t – Месячный доход в долларах; тип -\treal\n",
        "* NumberOfTimes90DaysLate  – Количество раз, когда человек имел просрочку выплаты других кредитов более 90 дней; тип -\tinteger\n",
        "* NumberOfTime60-89DaysPastDueNotWorse – \tКоличество раз, когда человек имел просрочку выплаты других кредитов более 60-89 дней, но не больше в течение последних двух лет; тип -\tinteger\n",
        "* NumberOfDependents  – Число человек в семье кредитозаёмщика; тип -\tinteger"
      ]
    },
    {
      "cell_type": "code",
      "execution_count": 27,
      "metadata": {
        "id": "J5Is3FaA9_UY"
      },
      "outputs": [],
      "source": [
        "%matplotlib inline\n",
        "# отключим предупреждения Anaconda\n",
        "import warnings\n",
        "\n",
        "import matplotlib.pyplot as plt\n",
        "import seaborn as sns\n",
        "\n",
        "warnings.filterwarnings(\"ignore\")\n",
        "import numpy as np\n",
        "import pandas as pd"
      ]
    },
    {
      "cell_type": "code",
      "execution_count": 28,
      "metadata": {
        "id": "m2RKmjNb9_UZ"
      },
      "outputs": [],
      "source": [
        "def delete_nan(table):\n",
        "    for col in table.columns:\n",
        "        table[col] = table[col].fillna(table[col].median())\n",
        "    return table"
      ]
    },
    {
      "cell_type": "code",
      "execution_count": 29,
      "metadata": {
        "id": "VZV6aP7H9_UZ",
        "outputId": "bbb91a12-0f27-4957-9c1b-18511289bd08",
        "colab": {
          "base_uri": "https://localhost:8080/",
          "height": 206
        }
      },
      "outputs": [
        {
          "output_type": "execute_result",
          "data": {
            "text/plain": [
              "   SeriousDlqin2yrs  age  NumberOfTime30-59DaysPastDueNotWorse    DebtRatio  \\\n",
              "0                 0   64                                     0     0.249908   \n",
              "1                 0   58                                     0  3870.000000   \n",
              "2                 0   41                                     0     0.456127   \n",
              "3                 0   43                                     0     0.000190   \n",
              "4                 1   49                                     0     0.271820   \n",
              "\n",
              "   NumberOfTimes90DaysLate  NumberOfTime60-89DaysPastDueNotWorse  \\\n",
              "0                        0                                     0   \n",
              "1                        0                                     0   \n",
              "2                        0                                     0   \n",
              "3                        0                                     0   \n",
              "4                        0                                     0   \n",
              "\n",
              "   MonthlyIncome  NumberOfDependents  \n",
              "0         8158.0                 0.0  \n",
              "1            NaN                 0.0  \n",
              "2         6666.0                 0.0  \n",
              "3        10500.0                 2.0  \n",
              "4          400.0                 0.0  "
            ],
            "text/html": [
              "\n",
              "  <div id=\"df-61729a36-d130-42c9-a4ff-7784ec172b79\" class=\"colab-df-container\">\n",
              "    <div>\n",
              "<style scoped>\n",
              "    .dataframe tbody tr th:only-of-type {\n",
              "        vertical-align: middle;\n",
              "    }\n",
              "\n",
              "    .dataframe tbody tr th {\n",
              "        vertical-align: top;\n",
              "    }\n",
              "\n",
              "    .dataframe thead th {\n",
              "        text-align: right;\n",
              "    }\n",
              "</style>\n",
              "<table border=\"1\" class=\"dataframe\">\n",
              "  <thead>\n",
              "    <tr style=\"text-align: right;\">\n",
              "      <th></th>\n",
              "      <th>SeriousDlqin2yrs</th>\n",
              "      <th>age</th>\n",
              "      <th>NumberOfTime30-59DaysPastDueNotWorse</th>\n",
              "      <th>DebtRatio</th>\n",
              "      <th>NumberOfTimes90DaysLate</th>\n",
              "      <th>NumberOfTime60-89DaysPastDueNotWorse</th>\n",
              "      <th>MonthlyIncome</th>\n",
              "      <th>NumberOfDependents</th>\n",
              "    </tr>\n",
              "  </thead>\n",
              "  <tbody>\n",
              "    <tr>\n",
              "      <th>0</th>\n",
              "      <td>0</td>\n",
              "      <td>64</td>\n",
              "      <td>0</td>\n",
              "      <td>0.249908</td>\n",
              "      <td>0</td>\n",
              "      <td>0</td>\n",
              "      <td>8158.0</td>\n",
              "      <td>0.0</td>\n",
              "    </tr>\n",
              "    <tr>\n",
              "      <th>1</th>\n",
              "      <td>0</td>\n",
              "      <td>58</td>\n",
              "      <td>0</td>\n",
              "      <td>3870.000000</td>\n",
              "      <td>0</td>\n",
              "      <td>0</td>\n",
              "      <td>NaN</td>\n",
              "      <td>0.0</td>\n",
              "    </tr>\n",
              "    <tr>\n",
              "      <th>2</th>\n",
              "      <td>0</td>\n",
              "      <td>41</td>\n",
              "      <td>0</td>\n",
              "      <td>0.456127</td>\n",
              "      <td>0</td>\n",
              "      <td>0</td>\n",
              "      <td>6666.0</td>\n",
              "      <td>0.0</td>\n",
              "    </tr>\n",
              "    <tr>\n",
              "      <th>3</th>\n",
              "      <td>0</td>\n",
              "      <td>43</td>\n",
              "      <td>0</td>\n",
              "      <td>0.000190</td>\n",
              "      <td>0</td>\n",
              "      <td>0</td>\n",
              "      <td>10500.0</td>\n",
              "      <td>2.0</td>\n",
              "    </tr>\n",
              "    <tr>\n",
              "      <th>4</th>\n",
              "      <td>1</td>\n",
              "      <td>49</td>\n",
              "      <td>0</td>\n",
              "      <td>0.271820</td>\n",
              "      <td>0</td>\n",
              "      <td>0</td>\n",
              "      <td>400.0</td>\n",
              "      <td>0.0</td>\n",
              "    </tr>\n",
              "  </tbody>\n",
              "</table>\n",
              "</div>\n",
              "    <div class=\"colab-df-buttons\">\n",
              "\n",
              "  <div class=\"colab-df-container\">\n",
              "    <button class=\"colab-df-convert\" onclick=\"convertToInteractive('df-61729a36-d130-42c9-a4ff-7784ec172b79')\"\n",
              "            title=\"Convert this dataframe to an interactive table.\"\n",
              "            style=\"display:none;\">\n",
              "\n",
              "  <svg xmlns=\"http://www.w3.org/2000/svg\" height=\"24px\" viewBox=\"0 -960 960 960\">\n",
              "    <path d=\"M120-120v-720h720v720H120Zm60-500h600v-160H180v160Zm220 220h160v-160H400v160Zm0 220h160v-160H400v160ZM180-400h160v-160H180v160Zm440 0h160v-160H620v160ZM180-180h160v-160H180v160Zm440 0h160v-160H620v160Z\"/>\n",
              "  </svg>\n",
              "    </button>\n",
              "\n",
              "  <style>\n",
              "    .colab-df-container {\n",
              "      display:flex;\n",
              "      gap: 12px;\n",
              "    }\n",
              "\n",
              "    .colab-df-convert {\n",
              "      background-color: #E8F0FE;\n",
              "      border: none;\n",
              "      border-radius: 50%;\n",
              "      cursor: pointer;\n",
              "      display: none;\n",
              "      fill: #1967D2;\n",
              "      height: 32px;\n",
              "      padding: 0 0 0 0;\n",
              "      width: 32px;\n",
              "    }\n",
              "\n",
              "    .colab-df-convert:hover {\n",
              "      background-color: #E2EBFA;\n",
              "      box-shadow: 0px 1px 2px rgba(60, 64, 67, 0.3), 0px 1px 3px 1px rgba(60, 64, 67, 0.15);\n",
              "      fill: #174EA6;\n",
              "    }\n",
              "\n",
              "    .colab-df-buttons div {\n",
              "      margin-bottom: 4px;\n",
              "    }\n",
              "\n",
              "    [theme=dark] .colab-df-convert {\n",
              "      background-color: #3B4455;\n",
              "      fill: #D2E3FC;\n",
              "    }\n",
              "\n",
              "    [theme=dark] .colab-df-convert:hover {\n",
              "      background-color: #434B5C;\n",
              "      box-shadow: 0px 1px 3px 1px rgba(0, 0, 0, 0.15);\n",
              "      filter: drop-shadow(0px 1px 2px rgba(0, 0, 0, 0.3));\n",
              "      fill: #FFFFFF;\n",
              "    }\n",
              "  </style>\n",
              "\n",
              "    <script>\n",
              "      const buttonEl =\n",
              "        document.querySelector('#df-61729a36-d130-42c9-a4ff-7784ec172b79 button.colab-df-convert');\n",
              "      buttonEl.style.display =\n",
              "        google.colab.kernel.accessAllowed ? 'block' : 'none';\n",
              "\n",
              "      async function convertToInteractive(key) {\n",
              "        const element = document.querySelector('#df-61729a36-d130-42c9-a4ff-7784ec172b79');\n",
              "        const dataTable =\n",
              "          await google.colab.kernel.invokeFunction('convertToInteractive',\n",
              "                                                    [key], {});\n",
              "        if (!dataTable) return;\n",
              "\n",
              "        const docLinkHtml = 'Like what you see? Visit the ' +\n",
              "          '<a target=\"_blank\" href=https://colab.research.google.com/notebooks/data_table.ipynb>data table notebook</a>'\n",
              "          + ' to learn more about interactive tables.';\n",
              "        element.innerHTML = '';\n",
              "        dataTable['output_type'] = 'display_data';\n",
              "        await google.colab.output.renderOutput(dataTable, element);\n",
              "        const docLink = document.createElement('div');\n",
              "        docLink.innerHTML = docLinkHtml;\n",
              "        element.appendChild(docLink);\n",
              "      }\n",
              "    </script>\n",
              "  </div>\n",
              "\n",
              "\n",
              "<div id=\"df-c81b3215-751a-4f6e-aed4-8f7038d49955\">\n",
              "  <button class=\"colab-df-quickchart\" onclick=\"quickchart('df-c81b3215-751a-4f6e-aed4-8f7038d49955')\"\n",
              "            title=\"Suggest charts\"\n",
              "            style=\"display:none;\">\n",
              "\n",
              "<svg xmlns=\"http://www.w3.org/2000/svg\" height=\"24px\"viewBox=\"0 0 24 24\"\n",
              "     width=\"24px\">\n",
              "    <g>\n",
              "        <path d=\"M19 3H5c-1.1 0-2 .9-2 2v14c0 1.1.9 2 2 2h14c1.1 0 2-.9 2-2V5c0-1.1-.9-2-2-2zM9 17H7v-7h2v7zm4 0h-2V7h2v10zm4 0h-2v-4h2v4z\"/>\n",
              "    </g>\n",
              "</svg>\n",
              "  </button>\n",
              "\n",
              "<style>\n",
              "  .colab-df-quickchart {\n",
              "      --bg-color: #E8F0FE;\n",
              "      --fill-color: #1967D2;\n",
              "      --hover-bg-color: #E2EBFA;\n",
              "      --hover-fill-color: #174EA6;\n",
              "      --disabled-fill-color: #AAA;\n",
              "      --disabled-bg-color: #DDD;\n",
              "  }\n",
              "\n",
              "  [theme=dark] .colab-df-quickchart {\n",
              "      --bg-color: #3B4455;\n",
              "      --fill-color: #D2E3FC;\n",
              "      --hover-bg-color: #434B5C;\n",
              "      --hover-fill-color: #FFFFFF;\n",
              "      --disabled-bg-color: #3B4455;\n",
              "      --disabled-fill-color: #666;\n",
              "  }\n",
              "\n",
              "  .colab-df-quickchart {\n",
              "    background-color: var(--bg-color);\n",
              "    border: none;\n",
              "    border-radius: 50%;\n",
              "    cursor: pointer;\n",
              "    display: none;\n",
              "    fill: var(--fill-color);\n",
              "    height: 32px;\n",
              "    padding: 0;\n",
              "    width: 32px;\n",
              "  }\n",
              "\n",
              "  .colab-df-quickchart:hover {\n",
              "    background-color: var(--hover-bg-color);\n",
              "    box-shadow: 0 1px 2px rgba(60, 64, 67, 0.3), 0 1px 3px 1px rgba(60, 64, 67, 0.15);\n",
              "    fill: var(--button-hover-fill-color);\n",
              "  }\n",
              "\n",
              "  .colab-df-quickchart-complete:disabled,\n",
              "  .colab-df-quickchart-complete:disabled:hover {\n",
              "    background-color: var(--disabled-bg-color);\n",
              "    fill: var(--disabled-fill-color);\n",
              "    box-shadow: none;\n",
              "  }\n",
              "\n",
              "  .colab-df-spinner {\n",
              "    border: 2px solid var(--fill-color);\n",
              "    border-color: transparent;\n",
              "    border-bottom-color: var(--fill-color);\n",
              "    animation:\n",
              "      spin 1s steps(1) infinite;\n",
              "  }\n",
              "\n",
              "  @keyframes spin {\n",
              "    0% {\n",
              "      border-color: transparent;\n",
              "      border-bottom-color: var(--fill-color);\n",
              "      border-left-color: var(--fill-color);\n",
              "    }\n",
              "    20% {\n",
              "      border-color: transparent;\n",
              "      border-left-color: var(--fill-color);\n",
              "      border-top-color: var(--fill-color);\n",
              "    }\n",
              "    30% {\n",
              "      border-color: transparent;\n",
              "      border-left-color: var(--fill-color);\n",
              "      border-top-color: var(--fill-color);\n",
              "      border-right-color: var(--fill-color);\n",
              "    }\n",
              "    40% {\n",
              "      border-color: transparent;\n",
              "      border-right-color: var(--fill-color);\n",
              "      border-top-color: var(--fill-color);\n",
              "    }\n",
              "    60% {\n",
              "      border-color: transparent;\n",
              "      border-right-color: var(--fill-color);\n",
              "    }\n",
              "    80% {\n",
              "      border-color: transparent;\n",
              "      border-right-color: var(--fill-color);\n",
              "      border-bottom-color: var(--fill-color);\n",
              "    }\n",
              "    90% {\n",
              "      border-color: transparent;\n",
              "      border-bottom-color: var(--fill-color);\n",
              "    }\n",
              "  }\n",
              "</style>\n",
              "\n",
              "  <script>\n",
              "    async function quickchart(key) {\n",
              "      const quickchartButtonEl =\n",
              "        document.querySelector('#' + key + ' button');\n",
              "      quickchartButtonEl.disabled = true;  // To prevent multiple clicks.\n",
              "      quickchartButtonEl.classList.add('colab-df-spinner');\n",
              "      try {\n",
              "        const charts = await google.colab.kernel.invokeFunction(\n",
              "            'suggestCharts', [key], {});\n",
              "      } catch (error) {\n",
              "        console.error('Error during call to suggestCharts:', error);\n",
              "      }\n",
              "      quickchartButtonEl.classList.remove('colab-df-spinner');\n",
              "      quickchartButtonEl.classList.add('colab-df-quickchart-complete');\n",
              "    }\n",
              "    (() => {\n",
              "      let quickchartButtonEl =\n",
              "        document.querySelector('#df-c81b3215-751a-4f6e-aed4-8f7038d49955 button');\n",
              "      quickchartButtonEl.style.display =\n",
              "        google.colab.kernel.accessAllowed ? 'block' : 'none';\n",
              "    })();\n",
              "  </script>\n",
              "</div>\n",
              "    </div>\n",
              "  </div>\n"
            ],
            "application/vnd.google.colaboratory.intrinsic+json": {
              "type": "dataframe",
              "variable_name": "data",
              "summary": "{\n  \"name\": \"data\",\n  \"rows\": 45063,\n  \"fields\": [\n    {\n      \"column\": \"SeriousDlqin2yrs\",\n      \"properties\": {\n        \"dtype\": \"number\",\n        \"std\": 0,\n        \"min\": 0,\n        \"max\": 1,\n        \"num_unique_values\": 2,\n        \"samples\": [\n          1,\n          0\n        ],\n        \"semantic_type\": \"\",\n        \"description\": \"\"\n      }\n    },\n    {\n      \"column\": \"age\",\n      \"properties\": {\n        \"dtype\": \"number\",\n        \"std\": 14,\n        \"min\": 21,\n        \"max\": 107,\n        \"num_unique_values\": 83,\n        \"samples\": [\n          71,\n          64\n        ],\n        \"semantic_type\": \"\",\n        \"description\": \"\"\n      }\n    },\n    {\n      \"column\": \"NumberOfTime30-59DaysPastDueNotWorse\",\n      \"properties\": {\n        \"dtype\": \"number\",\n        \"std\": 6,\n        \"min\": 0,\n        \"max\": 98,\n        \"num_unique_values\": 16,\n        \"samples\": [\n          0,\n          2\n        ],\n        \"semantic_type\": \"\",\n        \"description\": \"\"\n      }\n    },\n    {\n      \"column\": \"DebtRatio\",\n      \"properties\": {\n        \"dtype\": \"number\",\n        \"std\": 2467.556358086581,\n        \"min\": 0.0,\n        \"max\": 326442.0,\n        \"num_unique_values\": 37254,\n        \"samples\": [\n          0.052689,\n          817.0\n        ],\n        \"semantic_type\": \"\",\n        \"description\": \"\"\n      }\n    },\n    {\n      \"column\": \"NumberOfTimes90DaysLate\",\n      \"properties\": {\n        \"dtype\": \"number\",\n        \"std\": 6,\n        \"min\": 0,\n        \"max\": 98,\n        \"num_unique_values\": 19,\n        \"samples\": [\n          0,\n          2\n        ],\n        \"semantic_type\": \"\",\n        \"description\": \"\"\n      }\n    },\n    {\n      \"column\": \"NumberOfTime60-89DaysPastDueNotWorse\",\n      \"properties\": {\n        \"dtype\": \"number\",\n        \"std\": 6,\n        \"min\": 0,\n        \"max\": 98,\n        \"num_unique_values\": 12,\n        \"samples\": [\n          8,\n          96\n        ],\n        \"semantic_type\": \"\",\n        \"description\": \"\"\n      }\n    },\n    {\n      \"column\": \"MonthlyIncome\",\n      \"properties\": {\n        \"dtype\": \"number\",\n        \"std\": 12638.16772261894,\n        \"min\": 0.0,\n        \"max\": 1794060.0,\n        \"num_unique_values\": 8263,\n        \"samples\": [\n          6724.0,\n          10980.0\n        ],\n        \"semantic_type\": \"\",\n        \"description\": \"\"\n      }\n    },\n    {\n      \"column\": \"NumberOfDependents\",\n      \"properties\": {\n        \"dtype\": \"number\",\n        \"std\": 1.1308126912487906,\n        \"min\": 0.0,\n        \"max\": 10.0,\n        \"num_unique_values\": 11,\n        \"samples\": [\n          6.0,\n          0.0\n        ],\n        \"semantic_type\": \"\",\n        \"description\": \"\"\n      }\n    }\n  ]\n}"
            }
          },
          "metadata": {},
          "execution_count": 29
        }
      ],
      "source": [
        "credit_scoring_sample = \"https://raw.githubusercontent.com/raffeekk/ML/refs/heads/main/%D0%A2%D0%B5%D0%BC%D0%B0%205/credit_scoring_sample.csv\"\n",
        "data = pd.read_csv(credit_scoring_sample, sep=\";\")\n",
        "data.head()"
      ]
    },
    {
      "cell_type": "code",
      "execution_count": 30,
      "metadata": {
        "id": "PLrPLq3E9_Ua",
        "outputId": "88ba9df6-fd70-4af2-e747-6c1f4e3b4344",
        "colab": {
          "base_uri": "https://localhost:8080/",
          "height": 335
        }
      },
      "outputs": [
        {
          "output_type": "execute_result",
          "data": {
            "text/plain": [
              "SeriousDlqin2yrs                          int64\n",
              "age                                       int64\n",
              "NumberOfTime30-59DaysPastDueNotWorse      int64\n",
              "DebtRatio                               float64\n",
              "NumberOfTimes90DaysLate                   int64\n",
              "NumberOfTime60-89DaysPastDueNotWorse      int64\n",
              "MonthlyIncome                           float64\n",
              "NumberOfDependents                      float64\n",
              "dtype: object"
            ],
            "text/html": [
              "<div>\n",
              "<style scoped>\n",
              "    .dataframe tbody tr th:only-of-type {\n",
              "        vertical-align: middle;\n",
              "    }\n",
              "\n",
              "    .dataframe tbody tr th {\n",
              "        vertical-align: top;\n",
              "    }\n",
              "\n",
              "    .dataframe thead th {\n",
              "        text-align: right;\n",
              "    }\n",
              "</style>\n",
              "<table border=\"1\" class=\"dataframe\">\n",
              "  <thead>\n",
              "    <tr style=\"text-align: right;\">\n",
              "      <th></th>\n",
              "      <th>0</th>\n",
              "    </tr>\n",
              "  </thead>\n",
              "  <tbody>\n",
              "    <tr>\n",
              "      <th>SeriousDlqin2yrs</th>\n",
              "      <td>int64</td>\n",
              "    </tr>\n",
              "    <tr>\n",
              "      <th>age</th>\n",
              "      <td>int64</td>\n",
              "    </tr>\n",
              "    <tr>\n",
              "      <th>NumberOfTime30-59DaysPastDueNotWorse</th>\n",
              "      <td>int64</td>\n",
              "    </tr>\n",
              "    <tr>\n",
              "      <th>DebtRatio</th>\n",
              "      <td>float64</td>\n",
              "    </tr>\n",
              "    <tr>\n",
              "      <th>NumberOfTimes90DaysLate</th>\n",
              "      <td>int64</td>\n",
              "    </tr>\n",
              "    <tr>\n",
              "      <th>NumberOfTime60-89DaysPastDueNotWorse</th>\n",
              "      <td>int64</td>\n",
              "    </tr>\n",
              "    <tr>\n",
              "      <th>MonthlyIncome</th>\n",
              "      <td>float64</td>\n",
              "    </tr>\n",
              "    <tr>\n",
              "      <th>NumberOfDependents</th>\n",
              "      <td>float64</td>\n",
              "    </tr>\n",
              "  </tbody>\n",
              "</table>\n",
              "</div><br><label><b>dtype:</b> object</label>"
            ]
          },
          "metadata": {},
          "execution_count": 30
        }
      ],
      "source": [
        "data.dtypes"
      ]
    },
    {
      "cell_type": "code",
      "execution_count": 31,
      "metadata": {
        "id": "jD64Kqgj9_Ua",
        "outputId": "7bd38366-60c7-4c44-de27-26ca6ce016d8",
        "colab": {
          "base_uri": "https://localhost:8080/",
          "height": 651
        }
      },
      "outputs": [
        {
          "output_type": "stream",
          "name": "stdout",
          "text": [
            "Distribution of target\n"
          ]
        },
        {
          "output_type": "execute_result",
          "data": {
            "text/plain": [
              "SeriousDlqin2yrs\n",
              "0    0.777511\n",
              "1    0.222489\n",
              "Name: count, dtype: float64"
            ],
            "text/html": [
              "<div>\n",
              "<style scoped>\n",
              "    .dataframe tbody tr th:only-of-type {\n",
              "        vertical-align: middle;\n",
              "    }\n",
              "\n",
              "    .dataframe tbody tr th {\n",
              "        vertical-align: top;\n",
              "    }\n",
              "\n",
              "    .dataframe thead th {\n",
              "        text-align: right;\n",
              "    }\n",
              "</style>\n",
              "<table border=\"1\" class=\"dataframe\">\n",
              "  <thead>\n",
              "    <tr style=\"text-align: right;\">\n",
              "      <th></th>\n",
              "      <th>count</th>\n",
              "    </tr>\n",
              "    <tr>\n",
              "      <th>SeriousDlqin2yrs</th>\n",
              "      <th></th>\n",
              "    </tr>\n",
              "  </thead>\n",
              "  <tbody>\n",
              "    <tr>\n",
              "      <th>0</th>\n",
              "      <td>0.777511</td>\n",
              "    </tr>\n",
              "    <tr>\n",
              "      <th>1</th>\n",
              "      <td>0.222489</td>\n",
              "    </tr>\n",
              "  </tbody>\n",
              "</table>\n",
              "</div><br><label><b>dtype:</b> float64</label>"
            ]
          },
          "metadata": {},
          "execution_count": 31
        },
        {
          "output_type": "display_data",
          "data": {
            "text/plain": [
              "<Figure size 640x480 with 1 Axes>"
            ],
            "image/png": "[encoded data removed]"
          },
          "metadata": {}
        }
      ],
      "source": [
        "ax = data[\"SeriousDlqin2yrs\"].hist(orientation=\"horizontal\", color=\"green\")\n",
        "ax.set_xlabel(\"number_of_observations\")\n",
        "ax.set_ylabel(\"unique_value\")\n",
        "ax.set_title(\"Target distribution\")\n",
        "\n",
        "print(\"Distribution of target\")\n",
        "data[\"SeriousDlqin2yrs\"].value_counts() / data.shape[0]"
      ]
    },
    {
      "cell_type": "code",
      "execution_count": 32,
      "metadata": {
        "id": "6K-4YZPt9_Ub",
        "outputId": "3d5324bb-d72d-4857-f35a-7b25e88a9a87",
        "colab": {
          "base_uri": "https://localhost:8080/"
        }
      },
      "outputs": [
        {
          "output_type": "execute_result",
          "data": {
            "text/plain": [
              "['age',\n",
              " 'NumberOfTime30-59DaysPastDueNotWorse',\n",
              " 'DebtRatio',\n",
              " 'NumberOfTimes90DaysLate',\n",
              " 'NumberOfTime60-89DaysPastDueNotWorse',\n",
              " 'MonthlyIncome',\n",
              " 'NumberOfDependents']"
            ]
          },
          "metadata": {},
          "execution_count": 32
        }
      ],
      "source": [
        "independent_columns_names = data.columns.values\n",
        "independent_columns_names = [x for x in data if x != \"SeriousDlqin2yrs\"]\n",
        "independent_columns_names"
      ]
    },
    {
      "cell_type": "code",
      "execution_count": 33,
      "metadata": {
        "id": "4fnj6iFi9_Ub"
      },
      "outputs": [],
      "source": [
        "table = delete_nan(data)"
      ]
    },
    {
      "cell_type": "code",
      "execution_count": 34,
      "metadata": {
        "id": "fWDd2_4S9_Ub"
      },
      "outputs": [],
      "source": [
        "X = table[independent_columns_names]\n",
        "y = table[\"SeriousDlqin2yrs\"]"
      ]
    },
    {
      "cell_type": "markdown",
      "metadata": {
        "id": "b3f1Pz2B9_Ub"
      },
      "source": [
        "# Бутстрэп"
      ]
    },
    {
      "cell_type": "markdown",
      "metadata": {
        "id": "pxW34pPE9_Ub"
      },
      "source": [
        "**Задание 2.** Сделайте интервальную оценку среднего возраста (age) для клиентов, которые просрочили выплату кредита, с 90% \"уверенностью\". Используйте пример из статьи, поставьте `np.random.seed(0)`, как это сделано в статье."
      ]
    },
    {
      "cell_type": "code",
      "execution_count": 35,
      "metadata": {
        "id": "7o-UZZS79_Uc",
        "outputId": "64bc683c-1243-41bd-c1d5-c03723a042c4",
        "colab": {
          "base_uri": "https://localhost:8080/",
          "height": 490
        }
      },
      "outputs": [
        {
          "output_type": "stream",
          "name": "stdout",
          "text": [
            "90% доверительный интервал для среднего возраста клиентов с просрочкой: (45.71, 46.13)\n"
          ]
        },
        {
          "output_type": "display_data",
          "data": {
            "text/plain": [
              "<Figure size 640x480 with 1 Axes>"
            ],
            "image/png": "[encoded data removed]"
          },
          "metadata": {}
        }
      ],
      "source": [
        "import numpy as np\n",
        "import pandas as pd\n",
        "import matplotlib.pyplot as plt\n",
        "\n",
        "data = pd.read_csv(credit_scoring_sample, sep=\";\")\n",
        "\n",
        "data = delete_nan(data)\n",
        "\n",
        "defaulted_clients = data[data[\"SeriousDlqin2yrs\"] == 1]\n",
        "\n",
        "np.random.seed(0)\n",
        "\n",
        "n_iterations = 1000\n",
        "sample_size = len(defaulted_clients)\n",
        "ages = defaulted_clients['age'].values\n",
        "\n",
        "bootstrap_means = np.empty(n_iterations)\n",
        "\n",
        "for i in range(n_iterations):\n",
        "    sample = np.random.choice(ages, size=sample_size, replace=True)\n",
        "    bootstrap_means[i] = np.mean(sample)\n",
        "\n",
        "lower_bound = np.percentile(bootstrap_means, 5)\n",
        "upper_bound = np.percentile(bootstrap_means, 95)\n",
        "\n",
        "print(f\"90% доверительный интервал для среднего возраста клиентов с просрочкой: ({lower_bound:.2f}, {upper_bound:.2f})\")\n",
        "\n",
        "plt.hist(bootstrap_means, bins=30, color='green', edgecolor='black')\n",
        "plt.axvline(lower_bound, color='red', linestyle='dashed', linewidth=1)\n",
        "plt.axvline(upper_bound, color='red', linestyle='dashed', linewidth=1)\n",
        "plt.title('Bootstrap Means Distribution')\n",
        "plt.xlabel('Mean Age')\n",
        "plt.ylabel('Frequency')\n",
        "plt.show()\n"
      ]
    },
    {
      "cell_type": "markdown",
      "metadata": {
        "id": "bMU_gq419_Uc"
      },
      "source": [
        "## Подбор параметров для модели логистической регрессии"
      ]
    },
    {
      "cell_type": "markdown",
      "metadata": {
        "id": "YE_9ejdu9_Uc"
      },
      "source": [
        "#### Одной из важных метрик качества модели является значение площади под ROC-кривой. Значение ROC-AUC лежит от 0  до 1.   Чем ближе начение метрики ROC-AUC к 1, тем качественнее происходит классификация моделью."
      ]
    },
    {
      "cell_type": "code",
      "execution_count": 36,
      "metadata": {
        "id": "psKUMdwq9_Uc"
      },
      "outputs": [],
      "source": [
        "from sklearn.linear_model import LogisticRegression\n",
        "from sklearn.model_selection import GridSearchCV, StratifiedKFold\n",
        "\n",
        "## Используем модуль LogisticRegression для построения логистической регрессии.\n",
        "## Из-за несбалансированности классов  в таргете добавляем параметр балансировки.\n",
        "## Используем также параметр random_state=5 для воспроизводимости результатов\n",
        "lr = LogisticRegression(random_state=5, class_weight=\"balanced\")\n",
        "\n",
        "## Попробуем подобрать лучший коэффициент регуляризации (коэффициент C в логистической регрессии) для модели лог.регрессии.\n",
        "## Этот параметр необходим для того, чтобы подобрать оптимальную модель, которая не будет переобучена, с одной стороны,\n",
        "## и будет хорошо предсказывать значения таргета, с другой.\n",
        "## Остальные параметры оставляем по умолчанию.\n",
        "parameters = {\"C\": (0.0001, 0.001, 0.01, 0.1, 1, 10)}\n",
        "\n",
        "## Для того, чтобы подобрать коэффициент регуляризации, попробуем для каждого его возможного значения посмотреть\n",
        "## значения roc-auc на стрэтифайд кросс-валидации из 5 фолдов с помощью функции StratifiedKFold\n",
        "\n",
        "skf = StratifiedKFold(n_splits=5, shuffle=True, random_state=5)"
      ]
    },
    {
      "cell_type": "markdown",
      "metadata": {
        "id": "EUSrgXfK9_Uc"
      },
      "source": [
        "**Задание 3.**\n",
        "Сделайте GridSearch с метрикой \"roc-auc\" по параметру C. Какое оптимальное значение параметра С?"
      ]
    },
    {
      "cell_type": "code",
      "execution_count": 37,
      "metadata": {
        "id": "zNf3f0WQ9_Uc",
        "outputId": "7d2b29b0-8cf9-43f9-e8a4-7de318697289",
        "colab": {
          "base_uri": "https://localhost:8080/"
        }
      },
      "outputs": [
        {
          "output_type": "stream",
          "name": "stdout",
          "text": [
            "Оптимальное значение параметра C: 0.1\n",
            "Лучший ROC AUC: 0.7940053383655866\n"
          ]
        }
      ],
      "source": [
        "import numpy as np\n",
        "from sklearn.model_selection import train_test_split\n",
        "from sklearn.linear_model import LogisticRegression\n",
        "from sklearn.model_selection import GridSearchCV, StratifiedKFold\n",
        "from sklearn.metrics import roc_auc_score\n",
        "\n",
        "X_train, X_test, y_train, y_test = train_test_split(X, y, test_size=0.2, random_state=5, stratify=y)\n",
        "\n",
        "lr = LogisticRegression(random_state=5, class_weight=\"balanced\")\n",
        "\n",
        "parameters = {\"C\": [0.0001, 0.001, 0.01, 0.1, 1, 10]}\n",
        "\n",
        "skf = StratifiedKFold(n_splits=5, shuffle=True, random_state=5)\n",
        "\n",
        "grid_search = GridSearchCV(estimator=lr, param_grid=parameters, scoring='roc_auc', cv=skf)\n",
        "grid_search.fit(X_train, y_train)\n",
        "\n",
        "best_C = grid_search.best_params_['C']\n",
        "best_score = grid_search.best_score_\n",
        "\n",
        "print(f\"Оптимальное значение параметра C: {best_C}\")\n",
        "print(f\"Лучший ROC AUC: {best_score}\")\n"
      ]
    },
    {
      "cell_type": "markdown",
      "metadata": {
        "id": "kxKfOVR49_Uc"
      },
      "source": [
        "**Задание 4.**\n",
        "Можно ли считать лучшую модель устойчивой? (модель считаем устойчивой, если стандартное отклонение на валидации меньше 0.5%) Сохраните точность лучшей модели, она вам приходится для следующих заданий"
      ]
    },
    {
      "cell_type": "code",
      "execution_count": 38,
      "metadata": {
        "id": "v3_IfMU99_Uc",
        "outputId": "4450dee2-193a-4e20-9240-5889380dbdc4",
        "colab": {
          "base_uri": "https://localhost:8080/"
        }
      },
      "outputs": [
        {
          "output_type": "stream",
          "name": "stdout",
          "text": [
            "Стандартное отклонение ROC AUC: 0.0027353643918244996\n",
            "Модель считается устойчивой.\n",
            "Точность лучшей модели (ROC AUC): 0.7940053383655866\n"
          ]
        }
      ],
      "source": [
        "cv_results = grid_search.cv_results_\n",
        "\n",
        "std_dev = np.std(cv_results['mean_test_score'])\n",
        "\n",
        "print(f\"Стандартное отклонение ROC AUC: {std_dev}\")\n",
        "\n",
        "if std_dev < 0.005:\n",
        "    print(\"Модель считается устойчивой.\")\n",
        "else:\n",
        "    print(\"Модель неустойчива.\")\n",
        "\n",
        "best_accuracy = best_score\n",
        "print(f\"Точность лучшей модели (ROC AUC): {best_accuracy}\")\n"
      ]
    },
    {
      "cell_type": "markdown",
      "metadata": {
        "id": "09RWxnFG9_Ud"
      },
      "source": [
        "## Определение влияния признаков"
      ]
    },
    {
      "cell_type": "markdown",
      "metadata": {
        "id": "ey9Gp2KL9_Ud"
      },
      "source": [
        "**Задание 5.**\n",
        "Определите самый важный признак. Важность признака определяется абсолютным значением его коэффициента. Так же нужно нормализировать все признаки, что бы можно их было корректно сравнить."
      ]
    },
    {
      "cell_type": "code",
      "execution_count": 39,
      "metadata": {
        "id": "wO99oXlg9_Ud",
        "outputId": "e0e40450-b8e9-41bc-8461-778804e17767",
        "colab": {
          "base_uri": "https://localhost:8080/"
        }
      },
      "outputs": [
        {
          "output_type": "stream",
          "name": "stdout",
          "text": [
            "Самый важный признак: NumberOfTime30-59DaysPastDueNotWorse с важностью 3.2839287851300645\n"
          ]
        }
      ],
      "source": [
        "import numpy as np\n",
        "from sklearn.preprocessing import StandardScaler\n",
        "\n",
        "scaler = StandardScaler()\n",
        "X_train_scaled = scaler.fit_transform(X_train)\n",
        "\n",
        "grid_search.fit(X_train_scaled, y_train)\n",
        "\n",
        "coefficients = grid_search.best_estimator_.coef_[0]\n",
        "\n",
        "importance = np.abs(coefficients)\n",
        "most_important_feature_index = np.argmax(importance)\n",
        "most_important_feature_value = importance[most_important_feature_index]\n",
        "most_important_feature_name = X.columns[most_important_feature_index]\n",
        "\n",
        "print(f\"Самый важный признак: {most_important_feature_name} с важностью {most_important_feature_value}\")"
      ]
    },
    {
      "cell_type": "markdown",
      "metadata": {
        "id": "kGvVHgS29_Ud"
      },
      "source": [
        "**Задание 6.** Посчитайте долю влияния DebtRatio на предсказание. (Воспользуйтесь функцией [softmax](https://en.wikipedia.org/wiki/Softmax_function))"
      ]
    },
    {
      "cell_type": "code",
      "execution_count": 40,
      "metadata": {
        "id": "5zxiqlrK9_Ud",
        "outputId": "5d22c034-6a9c-4482-8077-65fa98e202a0",
        "colab": {
          "base_uri": "https://localhost:8080/"
        }
      },
      "outputs": [
        {
          "output_type": "stream",
          "name": "stdout",
          "text": [
            "Доля влияния DebtRatio на предсказание: 0.017096949199632436\n"
          ]
        }
      ],
      "source": [
        "softmax_values = np.exp(coefficients) / np.sum(np.exp(coefficients))\n",
        "debt_ratio_index = np.where(X.columns == 'DebtRatio')[0][0]\n",
        "debt_ratio_influence = softmax_values[debt_ratio_index]\n",
        "\n",
        "print(f\"Доля влияния DebtRatio на предсказание: {debt_ratio_influence}\")"
      ]
    },
    {
      "cell_type": "markdown",
      "metadata": {
        "id": "eHN2LJQ79_Ud"
      },
      "source": [
        "**Задание 7.**\n",
        "Давайте посмотрим как можно интерпретировать влияние наших признаков. Для этого заного оценим логистическую регрессию в абсолютных величинах. После этого посчитайте во сколько раз увеличатся шансы, что клиент не выплатит кредит, если увеличить возраст на 20 лет при всех остальных равных значениях признаков. (теоретический расчет можно посмотреть [здесь](https://www.unm.edu/~schrader/biostat/bio2/Spr06/lec11.pdf))"
      ]
    },
    {
      "cell_type": "code",
      "execution_count": 41,
      "metadata": {
        "id": "3eVDQB2x9_Ud",
        "outputId": "41715620-22c5-49b1-a9e0-67be26061989",
        "colab": {
          "base_uri": "https://localhost:8080/"
        }
      },
      "outputs": [
        {
          "output_type": "stream",
          "name": "stdout",
          "text": [
            "Шансы невыплаты кредита увеличатся в 0.00016261405383834204 раз при увеличении возраста на 20 лет.\n"
          ]
        }
      ],
      "source": [
        "age_column_name = 'Age'\n",
        "\n",
        "if age_column_name in X.columns:\n",
        "    age_coefficient = coefficients[np.where(X.columns == age_column_name)[0][0]]\n",
        "else:\n",
        "\n",
        "    normalized_columns = [col.strip().lower() for col in X.columns]\n",
        "    if age_column_name.lower() in normalized_columns:\n",
        "        age_coefficient = coefficients[normalized_columns.index(age_column_name.lower())]\n",
        "    else:\n",
        "        print(f\"Признак '{age_column_name}' не найден в данных.\")\n",
        "        age_coefficient = None\n",
        "\n",
        "if age_coefficient is not None:\n",
        "    odds_increase = np.exp(age_coefficient * 20)\n",
        "    print(f\"Шансы невыплаты кредита увеличатся в {odds_increase} раз при увеличении возраста на 20 лет.\")\n"
      ]
    },
    {
      "cell_type": "markdown",
      "metadata": {
        "id": "4_kTk3A89_Ud"
      },
      "source": [
        "# Случайный лес"
      ]
    },
    {
      "cell_type": "code",
      "execution_count": 42,
      "metadata": {
        "id": "LrQvpXyC9_Ud"
      },
      "outputs": [],
      "source": [
        "from sklearn.ensemble import RandomForestClassifier\n",
        "\n",
        "# Случайный лес с RandomizedSearchCV\n",
        "rf = RandomForestClassifier(\n",
        "    n_estimators=100,\n",
        "    n_jobs=-1,\n",
        "    random_state=42,\n",
        "    oob_score=True,\n",
        "    class_weight=\"balanced\",\n",
        ")\n",
        "\n",
        "# Параметры для RandomizedSearchCV\n",
        "parameters = {\n",
        "    \"max_features\": [1, 2, 4],\n",
        "    \"min_samples_leaf\": [3, 5, 7, 9],\n",
        "    \"max_depth\": [5, 10, 15]\n",
        "}"
      ]
    },
    {
      "cell_type": "markdown",
      "metadata": {
        "id": "eaQDVU0E9_Ud"
      },
      "source": [
        "**Задание 8.** На сколько точность лучшей модели случайного леса выше точности логистической регрессии на валидации?"
      ]
    },
    {
      "cell_type": "code",
      "execution_count": 43,
      "metadata": {
        "id": "bDKHt-129_Ud",
        "outputId": "a345a587-aa63-486e-cf8e-2795484334be",
        "colab": {
          "base_uri": "https://localhost:8080/"
        }
      },
      "outputs": [
        {
          "output_type": "stream",
          "name": "stdout",
          "text": [
            "Точность логистической регрессии: 0.7953\n",
            "Точность лучшей модели случайного леса: 0.8502\n",
            "На сколько точность лучшей модели случайного леса выше точности логистической регрессии: 0.0549\n"
          ]
        }
      ],
      "source": [
        "from sklearn.model_selection import RandomizedSearchCV, StratifiedKFold, train_test_split\n",
        "from sklearn.ensemble import RandomForestClassifier\n",
        "from sklearn.linear_model import LogisticRegression\n",
        "from sklearn.metrics import accuracy_score\n",
        "from sklearn.utils import resample\n",
        "\n",
        "X_train_sub, _, y_train_sub, _ = train_test_split(X_train_scaled, y_train, test_size=0.8, random_state=42)\n",
        "\n",
        "skf = StratifiedKFold(n_splits=3, shuffle=True, random_state=42)\n",
        "\n",
        "log_reg = LogisticRegression(max_iter=1000, random_state=42, n_jobs=-1)\n",
        "log_reg.fit(X_train_sub, y_train_sub)\n",
        "\n",
        "y_pred_log_reg = log_reg.predict(X_train_sub)\n",
        "log_reg_accuracy = accuracy_score(y_train_sub, y_pred_log_reg)\n",
        "\n",
        "random_search_rf = RandomizedSearchCV(rf, parameters, cv=skf, scoring='accuracy', n_iter=10, random_state=42, n_jobs=-1)\n",
        "random_search_rf.fit(X_train_sub, y_train_sub)\n",
        "\n",
        "best_rf_model = random_search_rf.best_estimator_\n",
        "y_pred_rf = best_rf_model.predict(X_train_sub)\n",
        "rf_accuracy = accuracy_score(y_train_sub, y_pred_rf)\n",
        "\n",
        "print(f\"Точность логистической регрессии: {log_reg_accuracy:.4f}\")\n",
        "print(f\"Точность лучшей модели случайного леса: {rf_accuracy:.4f}\")\n",
        "\n",
        "accuracy_difference = rf_accuracy - log_reg_accuracy\n",
        "print(f\"На сколько точность лучшей модели случайного леса выше точности логистической регрессии: {accuracy_difference:.4f}\")\n"
      ]
    },
    {
      "cell_type": "markdown",
      "metadata": {
        "id": "a83CIIDo9_Ue"
      },
      "source": [
        "**Задание 9.** Определите какой признак имеет самое слабое влияние."
      ]
    },
    {
      "cell_type": "code",
      "execution_count": 44,
      "metadata": {
        "id": "a_Bh217u9_Ue",
        "outputId": "da38e13b-a9d8-4264-ab2c-ad01fdb11cc8",
        "colab": {
          "base_uri": "https://localhost:8080/"
        }
      },
      "outputs": [
        {
          "output_type": "stream",
          "name": "stdout",
          "text": [
            "Самый слабый признак: DebtRatio с коэффициентом 0.0319\n"
          ]
        }
      ],
      "source": [
        "log_reg_coefficients = log_reg.coef_[0]\n",
        "\n",
        "weakest_feature_index = np.argmin(np.abs(log_reg_coefficients))\n",
        "weakest_feature_name = X.columns[weakest_feature_index]\n",
        "weakest_feature_value = log_reg_coefficients[weakest_feature_index]\n",
        "\n",
        "print(f\"Самый слабый признак: {weakest_feature_name} с коэффициентом {weakest_feature_value:.4f}\")\n"
      ]
    },
    {
      "cell_type": "markdown",
      "metadata": {
        "id": "0L8D806i9_Ue"
      },
      "source": [
        "** Задание 10.** Какое наиболее существенное примущество логистической регрессии перед случайным лесом для нашей бизнес-задачи?\n",
        "\n",
        "- меньше тратится времени для тренировки модели;\n",
        "- меньше параметров для перебора;\n",
        "- интепретируемость признаков;\n",
        "- линейные свойства алгоритма."
      ]
    },
    {
      "cell_type": "code",
      "execution_count": 45,
      "metadata": {
        "id": "V0BCtImG9_Ue",
        "outputId": "d4b5adff-6247-411f-d39b-4a37c9372c94",
        "colab": {
          "base_uri": "https://localhost:8080/"
        }
      },
      "outputs": [
        {
          "output_type": "stream",
          "name": "stdout",
          "text": [
            "Точность логистической регрессии: 0.7953\n",
            "Точность лучшей модели случайного леса: 0.8502\n",
            "На сколько точность лучшей модели случайного леса выше точности логистической регрессии: 0.0549\n",
            "Самый слабый признак: DebtRatio с коэффициентом 0.0319\n",
            "Наиболее существенное преимущество логистической регрессии перед случайным лесом: интерпретируемость признаков.\n"
          ]
        }
      ],
      "source": [
        "from sklearn.model_selection import RandomizedSearchCV, StratifiedKFold, train_test_split\n",
        "from sklearn.ensemble import RandomForestClassifier\n",
        "from sklearn.linear_model import LogisticRegression\n",
        "from sklearn.metrics import accuracy_score\n",
        "import numpy as np\n",
        "\n",
        "parameters = {\n",
        "    \"max_features\": [1, 2, 4],\n",
        "    \"min_samples_leaf\": [3, 5, 7, 9],\n",
        "    \"max_depth\": [5, 10, 15]\n",
        "}\n",
        "\n",
        "X_train_sub, _, y_train_sub, _ = train_test_split(X_train_scaled, y_train, test_size=0.8, random_state=42)\n",
        "\n",
        "skf = StratifiedKFold(n_splits=3, shuffle=True, random_state=42)\n",
        "\n",
        "log_reg = LogisticRegression(max_iter=1000, random_state=42, n_jobs=-1)\n",
        "log_reg.fit(X_train_sub, y_train_sub)\n",
        "\n",
        "y_pred_log_reg = log_reg.predict(X_train_sub)\n",
        "log_reg_accuracy = accuracy_score(y_train_sub, y_pred_log_reg)\n",
        "\n",
        "rf = RandomForestClassifier(\n",
        "    n_estimators=100,\n",
        "    n_jobs=-1,\n",
        "    random_state=42,\n",
        "    oob_score=True,\n",
        "    class_weight=\"balanced\",\n",
        ")\n",
        "random_search_rf = RandomizedSearchCV(rf, parameters, cv=skf, scoring='accuracy', n_iter=10, random_state=42, n_jobs=-1)\n",
        "random_search_rf.fit(X_train_sub, y_train_sub)\n",
        "\n",
        "best_rf_model = random_search_rf.best_estimator_\n",
        "y_pred_rf = best_rf_model.predict(X_train_sub)\n",
        "rf_accuracy = accuracy_score(y_train_sub, y_pred_rf)\n",
        "\n",
        "print(f\"Точность логистической регрессии: {log_reg_accuracy:.4f}\")\n",
        "print(f\"Точность лучшей модели случайного леса: {rf_accuracy:.4f}\")\n",
        "\n",
        "accuracy_difference = rf_accuracy - log_reg_accuracy\n",
        "print(f\"На сколько точность лучшей модели случайного леса выше точности логистической регрессии: {accuracy_difference:.4f}\")\n",
        "\n",
        "log_reg_coefficients = log_reg.coef_[0]\n",
        "weakest_feature_index = np.argmin(np.abs(log_reg_coefficients))\n",
        "weakest_feature_name = X.columns[weakest_feature_index]\n",
        "weakest_feature_value = log_reg_coefficients[weakest_feature_index]\n",
        "print(f\"Самый слабый признак: {weakest_feature_name} с коэффициентом {weakest_feature_value:.4f}\")\n",
        "\n",
        "print(\"Наиболее существенное преимущество логистической регрессии перед случайным лесом: интерпретируемость признаков.\")\n"
      ]
    },
    {
      "cell_type": "markdown",
      "metadata": {
        "id": "L2X8XuDU9_Ue"
      },
      "source": [
        "# Бэггинг"
      ]
    },
    {
      "cell_type": "code",
      "execution_count": 46,
      "metadata": {
        "id": "IrU1PsH69_Ue"
      },
      "outputs": [],
      "source": [
        "from sklearn.ensemble import BaggingClassifier\n",
        "from sklearn.model_selection import RandomizedSearchCV\n",
        "\n",
        "parameters = {\n",
        "    \"max_features\": [2, 3, 4],\n",
        "    \"max_samples\": [0.5, 0.7, 0.9],\n",
        "    \"base_estimator__C\": [0.0001, 0.001, 0.01, 1, 10, 100],\n",
        "}"
      ]
    },
    {
      "cell_type": "markdown",
      "metadata": {
        "id": "O78MyNyo9_Ue"
      },
      "source": [
        "**Задание 11.** Следующая задача обучить бэггинг классификатор (`random_state`=42). В качестве базовых классификаторов возьмите 100 логистических регрессий и на этот раз используйте не `GridSearchCV`, а `RandomizedSearchCV`. Так как перебирать все 54 варианта комбинаций долго, то поставьте максимальное число итераций 20 для `RandomizedSearchCV`. Также не забудьте передать параметр валидации `cv` и `random_state=1`. Какая лучшая точность получилась?"
      ]
    },
    {
      "cell_type": "code",
      "execution_count": 49,
      "metadata": {
        "id": "vuUaIRqN9_Ue",
        "outputId": "8c7359e1-045d-4b85-ce9f-37bcdfbdc46f",
        "colab": {
          "base_uri": "https://localhost:8080/"
        }
      },
      "outputs": [
        {
          "output_type": "stream",
          "name": "stdout",
          "text": [
            "Лучшая точность бэггинг классификатора: 0.7906\n",
            "Лучшие параметры: {'max_samples': 0.9, 'max_features': 4, 'estimator__C': 10}\n"
          ]
        }
      ],
      "source": [
        "from sklearn.model_selection import RandomizedSearchCV, train_test_split\n",
        "from sklearn.ensemble import BaggingClassifier\n",
        "from sklearn.linear_model import LogisticRegression\n",
        "from sklearn.metrics import accuracy_score\n",
        "import numpy as np\n",
        "\n",
        "parameters = {\n",
        "    \"max_features\": [2, 3, 4],\n",
        "    \"max_samples\": [0.5, 0.7, 0.9],\n",
        "    \"estimator__C\": [0.0001, 0.001, 0.01, 1, 10, 100],\n",
        "}\n",
        "\n",
        "X_train_sub, _, y_train_sub, _ = train_test_split(X_train_scaled, y_train, test_size=0.8, random_state=42)\n",
        "\n",
        "base_estimator = LogisticRegression(max_iter=1000, random_state=42)\n",
        "\n",
        "bagging_clf = BaggingClassifier(\n",
        "    estimator=base_estimator,\n",
        "    n_estimators=100,\n",
        "    random_state=42\n",
        ")\n",
        "\n",
        "random_search_bagging = RandomizedSearchCV(\n",
        "    bagging_clf,\n",
        "    parameters,\n",
        "    n_iter=10,\n",
        "    cv=3,\n",
        "    random_state=1,\n",
        "    n_jobs=-1,\n",
        "    scoring='accuracy'\n",
        ")\n",
        "\n",
        "random_search_bagging.fit(X_train_sub, y_train_sub)\n",
        "\n",
        "best_bagging_model = random_search_bagging.best_estimator_\n",
        "best_accuracy = random_search_bagging.best_score_\n",
        "\n",
        "print(f\"Лучшая точность бэггинг классификатора: {best_accuracy:.4f}\")\n",
        "print(f\"Лучшие параметры: {random_search_bagging.best_params_}\")\n"
      ]
    },
    {
      "cell_type": "markdown",
      "metadata": {
        "id": "dNcAjxNq9_Uj"
      },
      "source": [
        "**Задача 12.** Дайте интерпретацию лучших параметров для бэггинга. Почему именно такие значения оказались лучшими?\n",
        "\n",
        "## - для бэггинга важно использовать как можно меньше признаков\n",
        "- бэггинг лучше работает на небольших выборках\n",
        "- меньше корреляция между одиночными моделями\n",
        "- чем больше признаков, тем меньше теряется информации\n",
        "\n",
        "\n",
        "\n",
        "\n",
        "1. max_features: Это количество признаков, которые используются для обучения каждого базового классификатора. Меньшее значение может помочь снизить корреляцию между моделями, что может привести к улучшению обобщающей способности ансамбля. Если лучшее значение — 2 или 3, это подтверждает, что использование меньшего количества признаков помогает избежать переобучения и улучшает устойчивость модели.\n",
        "\n",
        "2. max_samples: Это доля обучающих данных, используемых для обучения каждого базового классификатора. Меньшие значения могут помочь в создании более разнообразных моделей, что также снижает корреляцию между ними. Если лучшее значение — 0.5 или 0.7, это может указывать на то, что обучение на меньших выборках позволяет моделям лучше обобщать.\n",
        "\n",
        "3. baseestimator_C: Это параметр регуляризации для логистической регрессии. Меньшие значения C означают более сильную регуляризацию, что может быть полезно для уменьшения переобучения. Если лучшее значение C — небольшое (например, 0.001 или 0.01), это может говорить о том, что модель сталкивается с переобучением на более сложных данных.\n",
        "\n",
        "▎Заключение:\n",
        "\n",
        "Использование меньшего количества признаков и меньших выборок в бэггинге позволяет создать более разнообразные модели, которые менее зависимы друг от друга. Это приводит к повышению точности и стабильности результатов. Важно отметить, что в случае с большим количеством признаков может возникнуть проблема с избыточностью информации, что также может негативно сказаться на производительности модели.\n",
        "\n",
        "Таким образом, результаты показывают, что подход с меньшим количеством признаков и выборок лучше работает в данной задаче."
      ]
    },
    {
      "cell_type": "code",
      "execution_count": null,
      "metadata": {
        "id": "ZSnAe2_-9_Uj"
      },
      "outputs": [],
      "source": []
    }
  ],
  "metadata": {
    "anaconda-cloud": {},
    "kernelspec": {
      "display_name": "Python 3 (ipykernel)",
      "language": "python",
      "name": "python3"
    },
    "language_info": {
      "codemirror_mode": {
        "name": "ipython",
        "version": 3
      },
      "file_extension": ".py",
      "mimetype": "text/x-python",
      "name": "python",
      "nbconvert_exporter": "python",
      "pygments_lexer": "ipython3",
      "version": "3.11.7"
    },
    "colab": {
      "provenance": [],
      "include_colab_link": true
    }
  },
  "nbformat": 4,
  "nbformat_minor": 0
}