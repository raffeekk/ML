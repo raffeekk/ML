{
  "cells": [
    {
      "cell_type": "markdown",
      "metadata": {
        "id": "view-in-github",
        "colab_type": "text"
      },
      "source": [
        "<a href=\"https://colab.research.google.com/github/raffeekk/ML/blob/main/%D0%A2%D0%B5%D0%BC%D0%B0%202/assignment02_habr_visual_analysis.ipynb\" target=\"_parent\"><img src=\"https://colab.research.google.com/assets/colab-badge.svg\" alt=\"Open In Colab\"/></a>"
      ]
    },
    {
      "cell_type": "markdown",
      "metadata": {
        "id": "-kEhvJGyuz13"
      },
      "source": [
        "# <center>Домашнее задание № 2. <br> Визуальный анализ данных о публикациях на Хабрахабре</center>\n"
      ]
    },
    {
      "cell_type": "code",
      "execution_count": 1,
      "metadata": {
        "id": "Q-04oc_Buz15"
      },
      "outputs": [],
      "source": [
        "import pandas as pd\n",
        "\n",
        "%matplotlib inline\n",
        "import matplotlib.pyplot as plt\n",
        "import seaborn as sns"
      ]
    },
    {
      "cell_type": "markdown",
      "metadata": {
        "id": "5V-kRtALuz16"
      },
      "source": [
        "## Загрузка и знакомство с данными\n",
        "\n",
        "Для работы вам понадобятся предобработанные данные нашего учебного конкурса на kaggle [«Прогноз популярности статьи на Хабре»](https://www.kaggle.com/c/howpop-habrahabr-favs). Скачайте [данные](https://drive.google.com/file/d/1nV2qV9otN3LnVSDqy95hvpJdb6aWtATk/view?usp=sharing) соревнования (данные были удалены с Kaggle ради организации последующего идентичного соревнования, так что тут ссылка на Google Drive)."
      ]
    },
    {
      "cell_type": "code",
      "execution_count": 3,
      "metadata": {
        "id": "UQjCHlTCuz16"
      },
      "outputs": [],
      "source": [
        "# при необходимости поменяйте путь к данным\n",
        "url = \"https://raw.githubusercontent.com/raffeekk/ml/refs/heads/main/%D0%A2%D0%B5%D0%BC%D0%B0%202/howpop_train.csv\"\n",
        "df = pd.read_csv(url)"
      ]
    },
    {
      "cell_type": "code",
      "execution_count": null,
      "metadata": {
        "id": "PYmtftjauz17"
      },
      "outputs": [],
      "source": [
        "df.shape"
      ]
    },
    {
      "cell_type": "code",
      "execution_count": null,
      "metadata": {
        "id": "fvxHAyWvuz18"
      },
      "outputs": [],
      "source": [
        "df.head(3).T"
      ]
    },
    {
      "cell_type": "markdown",
      "metadata": {
        "id": "upOLgBD_uz18"
      },
      "source": [
        "Избавимся сразу от переменных, названия которых заканчиваются на `_lognorm` (нужны для соревнования на Kaggle). Выберем их с помощью `filter()` и удалим `drop`-ом:"
      ]
    },
    {
      "cell_type": "code",
      "execution_count": null,
      "metadata": {
        "id": "m-PTL-21uz18"
      },
      "outputs": [],
      "source": [
        "df.drop(\n",
        "    filter(lambda c: c.endswith(\"_lognorm\"), df.columns),\n",
        "    axis=1,  # axis = 1: столбцы\n",
        "    inplace=True,\n",
        ")  # избавляет от необходимости сохранять датасет"
      ]
    },
    {
      "cell_type": "code",
      "execution_count": null,
      "metadata": {
        "id": "o44onoNyuz19"
      },
      "outputs": [],
      "source": [
        "df.describe().T"
      ]
    },
    {
      "cell_type": "code",
      "execution_count": null,
      "metadata": {
        "id": "mqeYy5Nbuz1-"
      },
      "outputs": [],
      "source": [
        "df.describe(include=[\"object\", \"bool\"]).T  # бинарные и категориальные переменные"
      ]
    },
    {
      "cell_type": "code",
      "execution_count": null,
      "metadata": {
        "id": "bodoUCJUuz1_"
      },
      "outputs": [],
      "source": [
        "# настройка внешнего вида графиков в seaborn\n",
        "sns.set_style(\"dark\")\n",
        "sns.set_palette(\"RdBu\")\n",
        "sns.set_context(\n",
        "    \"notebook\", font_scale=1.5, rc={\"figure.figsize\": (15, 5), \"axes.titlesize\": 18}\n",
        ")"
      ]
    },
    {
      "cell_type": "markdown",
      "metadata": {
        "id": "bzwKXm6quz2A"
      },
      "source": [
        "Столбец **`published`** (время публикации) содержит строки. Чтобы мы могли работать с этими данными как с датой/временем публикации, приведём их к типу `datetime`:"
      ]
    },
    {
      "cell_type": "code",
      "execution_count": null,
      "metadata": {
        "id": "U_aWCq2Puz2A"
      },
      "outputs": [],
      "source": [
        "print(df.published.dtype)\n",
        "df[\"published\"] = pd.to_datetime(df.published, yearfirst=True)\n",
        "print(df.published.dtype)"
      ]
    },
    {
      "cell_type": "markdown",
      "metadata": {
        "id": "Ll_rCCY3uz2A"
      },
      "source": [
        "Создадим несколько столбцов на основе данных о времени публикации:"
      ]
    },
    {
      "cell_type": "code",
      "execution_count": null,
      "metadata": {
        "id": "HjbL659Uuz2B"
      },
      "outputs": [],
      "source": [
        "df[\"year\"] = [d.year for d in df.published]\n",
        "df[\"month\"] = [d.month for d in df.published]\n",
        "\n",
        "df[\"dayofweek\"] = [d.isoweekday() for d in df.published]\n",
        "df[\"hour\"] = [d.hour for d in df.published]"
      ]
    },
    {
      "cell_type": "markdown",
      "metadata": {
        "id": "KpxQdqgIuz2B"
      },
      "source": [
        "-----\n",
        "Теперь Ваша очередь. В каждом пункте предлагается построить картинку и с ее помощью ответить на вопрос в [форме](https://docs.google.com/forms/d/e/1FAIpQLSf3b5OG8zX_nLQBQ-t20c6M5Auz-VUL-yxj8Fm9_o_XWDBTrg/viewform?c=0&w=1). Конечно, можно попытаться ответить на все вопросы только с Pandas, без картинок, но мы советуем Вам потренироваться строить (красивые) визуализации.   "
      ]
    },
    {
      "cell_type": "markdown",
      "metadata": {
        "id": "ZJTI8gRpuz2B"
      },
      "source": [
        "## 1\\. В каком месяце (и какого года) было больше всего публикаций?\n",
        "\n",
        "* март 2016\n",
        "* март 2015\n",
        "* апрель 2015\n",
        "* апрель 2016"
      ]
    },
    {
      "cell_type": "code",
      "execution_count": null,
      "metadata": {
        "id": "fPT3F89xuz2B"
      },
      "outputs": [],
      "source": [
        "month_year_counts = df.groupby([\"year\", \"month\"]).size().reset_index(name=\"counts\")\n",
        "max_month = month_year_counts.loc[month_year_counts.counts.idxmax()]\n",
        "print(f\"Больше всего публикаций было в {max_month['month']} {max_month['year']} года.\")"
      ]
    },
    {
      "cell_type": "markdown",
      "metadata": {
        "id": "KERVtOpuuz2B"
      },
      "source": [
        "## 2\\. Проанализируйте публикации в месяце из предыдущего вопроса\n",
        "\n",
        "Выберите один или несколько вариантов:\n",
        "\n",
        "* Один или несколько дней сильно выделяются из общей картины\n",
        "* На хабре _всегда_ больше статей, чем на гиктаймсе\n",
        "* По субботам на гиктаймс и на хабрахабр публикуют примерно одинаковое число статей\n",
        "\n",
        "Подсказки: постройте график зависимости числа публикаций от дня; используйте параметр `hue`; не заморачивайтесь сильно с ответами и не ищите скрытого смысла :)"
      ]
    },
    {
      "cell_type": "code",
      "execution_count": null,
      "metadata": {
        "id": "C_wdX7Uvuz2C"
      },
      "outputs": [],
      "source": [
        "m15 = df[(df['year'] == 2015) & (df['month'] == 3)]\n",
        "publications_per_day = m15.groupby('dayofweek')['published'].count()\n",
        "plt.figure(figsize=(10, 5))\n",
        "publications_per_day.plot(kind='bar')\n",
        "plt.xlabel('Дни недели')\n",
        "plt.ylabel('Количество публикаций')\n",
        "plt.title('Количество публикаций по дням (март 2015 года)')\n",
        "plt.xticks(rotation=0)\n",
        "plt.grid(axis='y')\n",
        "plt.show()"
      ]
    },
    {
      "cell_type": "markdown",
      "metadata": {
        "id": "CO2qzI3juz2C"
      },
      "source": [
        "## 3\\. Когда лучше всего публиковать статью?\n",
        "\n",
        "* Больше всего просмотров набирают статьи, опубликованные в 12 часов дня\n",
        "* У опубликованных в 10 утра постов больше всего комментариев\n",
        "* Больше всего просмотров набирают статьи, опубликованные в 6 часов утра\n",
        "* Максимальное число комментариев на гиктаймсе набрала статья, опубликованная в 9 часов вечера\n",
        "* На хабре дневные статьи комментируют чаще, чем вечерние"
      ]
    },
    {
      "cell_type": "code",
      "execution_count": null,
      "metadata": {
        "id": "_Ky2vFasuz2C"
      },
      "outputs": [],
      "source": [
        "plt.figure(figsize=(12, 6))\n",
        "sns.lineplot(\n",
        "    data=df.groupby(\"hour\").views.mean().reset_index(),\n",
        "    x=\"hour\", y=\"views\", label=\"Среднее количество просмотров\"\n",
        ")\n",
        "sns.lineplot(\n",
        "    data=df.groupby(\"hour\").comments.mean().reset_index(),\n",
        "    x=\"hour\", y=\"comments\", label=\"Среднее количество комментариев\"\n",
        ")\n",
        "plt.title(\"Средние просмотры и комментарии по времени публикации\")\n",
        "plt.xlabel(\"Час публикации\")\n",
        "plt.ylabel(\"Среднее значение\")\n",
        "plt.legend()\n",
        "plt.show()"
      ]
    },
    {
      "cell_type": "markdown",
      "metadata": {
        "id": "zcQ8WGyKuz2C"
      },
      "source": [
        "## 4\\. Кого из топ-20 авторов чаще всего минусуют?\n",
        "\n",
        "* @Mordatyj\n",
        "* @Mithgol\n",
        "* @alizar\n",
        "* @ilya42"
      ]
    },
    {
      "cell_type": "code",
      "execution_count": null,
      "metadata": {
        "id": "IKyaADxruz2C"
      },
      "outputs": [],
      "source": [
        "top_20_authors = df[\"author\"].value_counts().head(20).index\n",
        "author_minus = df[df.author.isin(top_20_authors)].groupby(\"author\")[\"votes_minus\"].sum()\n",
        "most_minus = author_minus.idxmax()\n",
        "print(f\"Автор с наибольшим числом минусов: @{most_minus}\")"
      ]
    },
    {
      "cell_type": "markdown",
      "metadata": {
        "id": "DHDj5j6Auz2C"
      },
      "source": [
        "## 5\\. Сравните субботы и понедельники\n",
        "\n",
        "Правда ли, что по субботам авторы пишут в основном днём, а по понедельникам — в основном вечером?"
      ]
    },
    {
      "cell_type": "code",
      "source": [
        "sat_mon = df[df.dayofweek.isin([1, 6])]  # 1 = Понедельник, 6 = Суббота\n",
        "plt.figure(figsize=(12, 6))\n",
        "sns.histplot(\n",
        "    data=sat_mon, x=\"hour\", hue=\"dayofweek\", multiple=\"stack\",\n",
        "    palette=\"Set1\", bins=24\n",
        ")\n",
        "plt.title(\"Распределение публикаций по часам для понедельника и субботы\")\n",
        "plt.xlabel(\"Час публикации\")\n",
        "plt.ylabel(\"Количество публикаций\")\n",
        "plt.legend([\"Понедельник\", \"Суббота\"], title=\"День недели\")\n",
        "plt.show()"
      ],
      "metadata": {
        "id": "hTldfxoTzGA_"
      },
      "execution_count": null,
      "outputs": []
    }
  ],
  "metadata": {
    "kernelspec": {
      "display_name": "Python 3 (ipykernel)",
      "language": "python",
      "name": "python3"
    },
    "language_info": {
      "codemirror_mode": {
        "name": "ipython",
        "version": 3
      },
      "file_extension": ".py",
      "mimetype": "text/x-python",
      "name": "python",
      "nbconvert_exporter": "python",
      "pygments_lexer": "ipython3",
      "version": "3.11.5"
    },
    "colab": {
      "provenance": [],
      "include_colab_link": true
    }
  },
  "nbformat": 4,
  "nbformat_minor": 0
}